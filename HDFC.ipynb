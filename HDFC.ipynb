{
	"nbformat": 4,
	"nbformat_minor": 0,
	"metadata": {
		"colab": {
			"name": "HDFC.ipynb",
			"provenance": [],
			"machine_shape": "hm"
		},
		"kernelspec": {
			"name": "python3",
			"display_name": "Python 3"
		},
		"accelerator": "TPU"
	},
	"cells": [
		{
			"cell_type": "code",
			"metadata": {
				"id": "tVXtBqbOHVtx",
				"colab_type": "code",
				"outputId": "08521f69-e5a8-4d61-9c4a-5e9c3f766844",
				"executionInfo": {
					"status": "ok",
					"timestamp": 1569770825508,
					"user_tz": -330,
					"elapsed": 50322,
					"user": {
						"displayName": "akash tomar",
						"photoUrl": "",
						"userId": ""
					}
				},
				"colab": {
					"base_uri": "https://localhost:8080/",
					"height": 125
				}
			},
			"source": [
				"from google.colab import drive \n",
				"drive.mount(\"/content/drive\")"
			],
			"execution_count": 17,
			"outputs": [
				{
					"output_type": "stream",
					"text": [
						"Go to this URL in a browser: https://accounts.google.com/o/oauth2/auth?client_id=947318989803-6bn6qk8qdgf4n4g3pfee6491hc0brc4i.apps.googleusercontent.com&redirect_uri=urn%3Aietf%3Awg%3Aoauth%3A2.0%3Aoob&scope=email%20https%3A%2F%2Fwww.googleapis.com%2Fauth%2Fdocs.test%20https%3A%2F%2Fwww.googleapis.com%2Fauth%2Fdrive%20https%3A%2F%2Fwww.googleapis.com%2Fauth%2Fdrive.photos.readonly%20https%3A%2F%2Fwww.googleapis.com%2Fauth%2Fpeopleapi.readonly&response_type=code\n",
						"\n",
						"Enter your authorization code:\n",
						"··········\n",
						"Mounted at /content/drive\n"
					],
					"name": "stdout"
				}
			]
		},
		{
			"cell_type": "code",
			"metadata": {
				"id": "XDSGR_YMIWqn",
				"colab_type": "code",
				"outputId": "ad1e2a17-3633-4464-8631-b4070df033fb",
				"executionInfo": {
					"status": "ok",
					"timestamp": 1569770825525,
					"user_tz": -330,
					"elapsed": 6393,
					"user": {
						"displayName": "akash tomar",
						"photoUrl": "https://lh3.googleusercontent.com/a-/AAuE7mBxd66nwVXwS-GpO-tMlaeZCMfJdn-tZcKXzYhhig=s64",
						"userId": "03886037860232413560"
					}
				},
				"colab": {
					"base_uri": "https://localhost:8080/",
					"height": 34
				}
			},
			"source": [
				"cd drive//My\\ Drive//HDFC"
			],
			"execution_count": 18,
			"outputs": [
				{
					"output_type": "stream",
					"text": [
						"/content/drive/My Drive/HDFC\n"
					],
					"name": "stdout"
				}
			]
		},
		{
			"cell_type": "code",
			"metadata": {
				"id": "sQ9CBNjKIr85",
				"colab_type": "code",
				"outputId": "5c0c00bf-a5d3-4d26-ca47-3f7a965a9201",
				"executionInfo": {
					"status": "ok",
					"timestamp": 1569770828110,
					"user_tz": -330,
					"elapsed": 7460,
					"user": {
						"displayName": "akash tomar",
						"photoUrl": "https://lh3.googleusercontent.com/a-/AAuE7mBxd66nwVXwS-GpO-tMlaeZCMfJdn-tZcKXzYhhig=s64",
						"userId": "03886037860232413560"
					}
				},
				"colab": {
					"base_uri": "https://localhost:8080/",
					"height": 52
				}
			},
			"source": [
				"ls"
			],
			"execution_count": 19,
			"outputs": [
				{
					"output_type": "stream",
					"text": [
						"Sample_submission.csv  submission_xg1.csv  Train.csv\n",
						"submission_rf.csv      Test.csv\n"
					],
					"name": "stdout"
				}
			]
		},
		{
			"cell_type": "code",
			"metadata": {
				"id": "KFUib_PhIx2h",
				"colab_type": "code",
				"outputId": "87ec6952-1898-4481-b13b-5d47130eaa74",
				"executionInfo": {
					"status": "ok",
					"timestamp": 1569770838803,
					"user_tz": -330,
					"elapsed": 17008,
					"user": {
						"displayName": "akash tomar",
						"photoUrl": "https://lh3.googleusercontent.com/a-/AAuE7mBxd66nwVXwS-GpO-tMlaeZCMfJdn-tZcKXzYhhig=s64",
						"userId": "03886037860232413560"
					}
				},
				"colab": {
					"base_uri": "https://localhost:8080/",
					"height": 282
				}
			},
			"source": [
				"#Importing the dataset\n",
				"import pandas as pd\n",
				"train=pd.read_csv(\"Train.csv\")\n",
				"train.head()"
			],
			"execution_count": 20,
			"outputs": [
				{
					"output_type": "stream",
					"text": [
						"/usr/local/lib/python3.6/dist-packages/IPython/core/interactiveshell.py:2718: DtypeWarning: Columns (746,835) have mixed types. Specify dtype option on import or set low_memory=False.\n",
						"  interactivity=interactivity, compiler=compiler, result=result)\n"
					],
					"name": "stderr"
				},
				{
					"output_type": "execute_result",
					"data": {
						"text/html": [
							"<div>\n",
							"<style scoped>\n",
							"    .dataframe tbody tr th:only-of-type {\n",
							"        vertical-align: middle;\n",
							"    }\n",
							"\n",
							"    .dataframe tbody tr th {\n",
							"        vertical-align: top;\n",
							"    }\n",
							"\n",
							"    .dataframe thead th {\n",
							"        text-align: right;\n",
							"    }\n",
							"</style>\n",
							"<table border=\"1\" class=\"dataframe\">\n",
							"  <thead>\n",
							"    <tr style=\"text-align: right;\">\n",
							"      <th></th>\n",
							"      <th>Col1</th>\n",
							"      <th>Col2</th>\n",
							"      <th>Col3</th>\n",
							"      <th>Col4</th>\n",
							"      <th>Col5</th>\n",
							"      <th>Col6</th>\n",
							"      <th>Col7</th>\n",
							"      <th>Col8</th>\n",
							"      <th>Col9</th>\n",
							"      <th>Col10</th>\n",
							"      <th>Col11</th>\n",
							"      <th>Col12</th>\n",
							"      <th>Col13</th>\n",
							"      <th>Col14</th>\n",
							"      <th>Col15</th>\n",
							"      <th>Col16</th>\n",
							"      <th>Col17</th>\n",
							"      <th>Col18</th>\n",
							"      <th>Col19</th>\n",
							"      <th>Col20</th>\n",
							"      <th>Col21</th>\n",
							"      <th>Col22</th>\n",
							"      <th>Col23</th>\n",
							"      <th>Col24</th>\n",
							"      <th>Col25</th>\n",
							"      <th>Col26</th>\n",
							"      <th>Col27</th>\n",
							"      <th>Col28</th>\n",
							"      <th>Col29</th>\n",
							"      <th>Col30</th>\n",
							"      <th>Col31</th>\n",
							"      <th>Col32</th>\n",
							"      <th>Col33</th>\n",
							"      <th>Col34</th>\n",
							"      <th>Col35</th>\n",
							"      <th>Col36</th>\n",
							"      <th>Col37</th>\n",
							"      <th>Col38</th>\n",
							"      <th>Col39</th>\n",
							"      <th>Col40</th>\n",
							"      <th>...</th>\n",
							"      <th>Col2358</th>\n",
							"      <th>Col2359</th>\n",
							"      <th>Col2360</th>\n",
							"      <th>Col2361</th>\n",
							"      <th>Col2362</th>\n",
							"      <th>Col2363</th>\n",
							"      <th>Col2364</th>\n",
							"      <th>Col2365</th>\n",
							"      <th>Col2366</th>\n",
							"      <th>Col2367</th>\n",
							"      <th>Col2368</th>\n",
							"      <th>Col2369</th>\n",
							"      <th>Col2370</th>\n",
							"      <th>Col2371</th>\n",
							"      <th>Col2372</th>\n",
							"      <th>Col2373</th>\n",
							"      <th>Col2374</th>\n",
							"      <th>Col2375</th>\n",
							"      <th>Col2376</th>\n",
							"      <th>Col2377</th>\n",
							"      <th>Col2378</th>\n",
							"      <th>Col2379</th>\n",
							"      <th>Col2380</th>\n",
							"      <th>Col2381</th>\n",
							"      <th>Col2382</th>\n",
							"      <th>Col2383</th>\n",
							"      <th>Col2384</th>\n",
							"      <th>Col2385</th>\n",
							"      <th>Col2386</th>\n",
							"      <th>Col2387</th>\n",
							"      <th>Col2388</th>\n",
							"      <th>Col2389</th>\n",
							"      <th>Col2390</th>\n",
							"      <th>Col2391</th>\n",
							"      <th>Col2392</th>\n",
							"      <th>Col2393</th>\n",
							"      <th>Col2394</th>\n",
							"      <th>Col2395</th>\n",
							"      <th>Col2396</th>\n",
							"      <th>Col2397</th>\n",
							"    </tr>\n",
							"  </thead>\n",
							"  <tbody>\n",
							"    <tr>\n",
							"      <th>0</th>\n",
							"      <td>RIGHGSN</td>\n",
							"      <td>1</td>\n",
							"      <td>1.086711e+04</td>\n",
							"      <td>8.648345e+03</td>\n",
							"      <td>1.576618e+04</td>\n",
							"      <td>2.890466e+04</td>\n",
							"      <td>5.273655e+03</td>\n",
							"      <td>2.346153e+04</td>\n",
							"      <td>1.285597e+04</td>\n",
							"      <td>2.871509e+04</td>\n",
							"      <td>9.114586e+03</td>\n",
							"      <td>3.043078e+04</td>\n",
							"      <td>9.293496</td>\n",
							"      <td>8.570479</td>\n",
							"      <td>10.063117</td>\n",
							"      <td>10.271758</td>\n",
							"      <td>0.548538</td>\n",
							"      <td>0.403366</td>\n",
							"      <td>NaN</td>\n",
							"      <td>NaN</td>\n",
							"      <td>1.486524</td>\n",
							"      <td>1.728324</td>\n",
							"      <td>0.993441</td>\n",
							"      <td>1.297050</td>\n",
							"      <td>0.137398</td>\n",
							"      <td>0.115987</td>\n",
							"      <td>0.260428</td>\n",
							"      <td>1.414214</td>\n",
							"      <td>1</td>\n",
							"      <td>1</td>\n",
							"      <td>1</td>\n",
							"      <td>1</td>\n",
							"      <td>1</td>\n",
							"      <td>1</td>\n",
							"      <td>0</td>\n",
							"      <td>6</td>\n",
							"      <td>NaN</td>\n",
							"      <td>NaN</td>\n",
							"      <td>NaN</td>\n",
							"      <td>NaN</td>\n",
							"      <td>...</td>\n",
							"      <td>0</td>\n",
							"      <td>0</td>\n",
							"      <td>0</td>\n",
							"      <td>0</td>\n",
							"      <td>0</td>\n",
							"      <td>0</td>\n",
							"      <td>0</td>\n",
							"      <td>0</td>\n",
							"      <td>0</td>\n",
							"      <td>0</td>\n",
							"      <td>0</td>\n",
							"      <td>0</td>\n",
							"      <td>0</td>\n",
							"      <td>0</td>\n",
							"      <td>0</td>\n",
							"      <td>0</td>\n",
							"      <td>0</td>\n",
							"      <td>0</td>\n",
							"      <td>0</td>\n",
							"      <td>0</td>\n",
							"      <td>0</td>\n",
							"      <td>0</td>\n",
							"      <td>0</td>\n",
							"      <td>0</td>\n",
							"      <td>0</td>\n",
							"      <td>0</td>\n",
							"      <td>0</td>\n",
							"      <td>0</td>\n",
							"      <td>0</td>\n",
							"      <td>0</td>\n",
							"      <td>0</td>\n",
							"      <td>1</td>\n",
							"      <td>0</td>\n",
							"      <td>1</td>\n",
							"      <td>214.0</td>\n",
							"      <td>214.0</td>\n",
							"      <td>68.0</td>\n",
							"      <td>22.0</td>\n",
							"      <td>22.0</td>\n",
							"      <td>7.0</td>\n",
							"    </tr>\n",
							"    <tr>\n",
							"      <th>1</th>\n",
							"      <td>RIMHI5ZGP</td>\n",
							"      <td>0</td>\n",
							"      <td>2.584312e+05</td>\n",
							"      <td>2.179633e+05</td>\n",
							"      <td>1.866287e+05</td>\n",
							"      <td>1.866287e+05</td>\n",
							"      <td>2.154519e+05</td>\n",
							"      <td>1.923615e+05</td>\n",
							"      <td>1.726538e+05</td>\n",
							"      <td>1.666974e+05</td>\n",
							"      <td>2.013518e+05</td>\n",
							"      <td>1.859404e+05</td>\n",
							"      <td>12.462385</td>\n",
							"      <td>12.280493</td>\n",
							"      <td>12.167132</td>\n",
							"      <td>12.136876</td>\n",
							"      <td>1.167898</td>\n",
							"      <td>2.676398</td>\n",
							"      <td>NaN</td>\n",
							"      <td>NaN</td>\n",
							"      <td>0.792123</td>\n",
							"      <td>0.934556</td>\n",
							"      <td>0.893203</td>\n",
							"      <td>0.966620</td>\n",
							"      <td>0.753892</td>\n",
							"      <td>0.808295</td>\n",
							"      <td>1.414214</td>\n",
							"      <td>NaN</td>\n",
							"      <td>1</td>\n",
							"      <td>1</td>\n",
							"      <td>3</td>\n",
							"      <td>4</td>\n",
							"      <td>4</td>\n",
							"      <td>0</td>\n",
							"      <td>4</td>\n",
							"      <td>5</td>\n",
							"      <td>NaN</td>\n",
							"      <td>NaN</td>\n",
							"      <td>NaN</td>\n",
							"      <td>NaN</td>\n",
							"      <td>...</td>\n",
							"      <td>0</td>\n",
							"      <td>0</td>\n",
							"      <td>0</td>\n",
							"      <td>0</td>\n",
							"      <td>0</td>\n",
							"      <td>0</td>\n",
							"      <td>0</td>\n",
							"      <td>0</td>\n",
							"      <td>0</td>\n",
							"      <td>0</td>\n",
							"      <td>0</td>\n",
							"      <td>0</td>\n",
							"      <td>0</td>\n",
							"      <td>1</td>\n",
							"      <td>0</td>\n",
							"      <td>0</td>\n",
							"      <td>0</td>\n",
							"      <td>0</td>\n",
							"      <td>0</td>\n",
							"      <td>0</td>\n",
							"      <td>0</td>\n",
							"      <td>0</td>\n",
							"      <td>0</td>\n",
							"      <td>0</td>\n",
							"      <td>0</td>\n",
							"      <td>0</td>\n",
							"      <td>0</td>\n",
							"      <td>0</td>\n",
							"      <td>0</td>\n",
							"      <td>0</td>\n",
							"      <td>0</td>\n",
							"      <td>0</td>\n",
							"      <td>0</td>\n",
							"      <td>0</td>\n",
							"      <td>41.0</td>\n",
							"      <td>41.0</td>\n",
							"      <td>38.0</td>\n",
							"      <td>12.0</td>\n",
							"      <td>12.0</td>\n",
							"      <td>11.0</td>\n",
							"    </tr>\n",
							"    <tr>\n",
							"      <th>2</th>\n",
							"      <td>RIHOG1SZU</td>\n",
							"      <td>0</td>\n",
							"      <td>1.459355e+07</td>\n",
							"      <td>1.260060e+07</td>\n",
							"      <td>1.100315e+07</td>\n",
							"      <td>1.010315e+07</td>\n",
							"      <td>1.879882e+07</td>\n",
							"      <td>1.514035e+07</td>\n",
							"      <td>5.320778e+06</td>\n",
							"      <td>6.906324e+06</td>\n",
							"      <td>9.368338e+06</td>\n",
							"      <td>1.113330e+07</td>\n",
							"      <td>16.496090</td>\n",
							"      <td>16.749305</td>\n",
							"      <td>16.532874</td>\n",
							"      <td>16.128357</td>\n",
							"      <td>1.145182</td>\n",
							"      <td>2.203874</td>\n",
							"      <td>NaN</td>\n",
							"      <td>NaN</td>\n",
							"      <td>0.422264</td>\n",
							"      <td>0.498347</td>\n",
							"      <td>0.683582</td>\n",
							"      <td>0.735339</td>\n",
							"      <td>0.808115</td>\n",
							"      <td>0.776910</td>\n",
							"      <td>1.414214</td>\n",
							"      <td>NaN</td>\n",
							"      <td>3</td>\n",
							"      <td>3</td>\n",
							"      <td>4</td>\n",
							"      <td>12</td>\n",
							"      <td>4</td>\n",
							"      <td>0</td>\n",
							"      <td>2</td>\n",
							"      <td>4</td>\n",
							"      <td>NaN</td>\n",
							"      <td>1.0</td>\n",
							"      <td>NaN</td>\n",
							"      <td>NaN</td>\n",
							"      <td>...</td>\n",
							"      <td>1</td>\n",
							"      <td>0</td>\n",
							"      <td>1</td>\n",
							"      <td>0</td>\n",
							"      <td>1</td>\n",
							"      <td>0</td>\n",
							"      <td>0</td>\n",
							"      <td>0</td>\n",
							"      <td>0</td>\n",
							"      <td>0</td>\n",
							"      <td>2</td>\n",
							"      <td>0</td>\n",
							"      <td>1</td>\n",
							"      <td>1</td>\n",
							"      <td>0</td>\n",
							"      <td>0</td>\n",
							"      <td>0</td>\n",
							"      <td>0</td>\n",
							"      <td>0</td>\n",
							"      <td>0</td>\n",
							"      <td>2</td>\n",
							"      <td>0</td>\n",
							"      <td>0</td>\n",
							"      <td>0</td>\n",
							"      <td>0</td>\n",
							"      <td>0</td>\n",
							"      <td>0</td>\n",
							"      <td>0</td>\n",
							"      <td>0</td>\n",
							"      <td>0</td>\n",
							"      <td>0</td>\n",
							"      <td>1</td>\n",
							"      <td>1</td>\n",
							"      <td>0</td>\n",
							"      <td>378.0</td>\n",
							"      <td>378.0</td>\n",
							"      <td>310.0</td>\n",
							"      <td>21.0</td>\n",
							"      <td>21.0</td>\n",
							"      <td>16.0</td>\n",
							"    </tr>\n",
							"    <tr>\n",
							"      <th>3</th>\n",
							"      <td>RIHOLMQWU</td>\n",
							"      <td>0</td>\n",
							"      <td>6.727043e+05</td>\n",
							"      <td>8.181116e+05</td>\n",
							"      <td>6.794893e+05</td>\n",
							"      <td>6.794893e+05</td>\n",
							"      <td>8.257254e+05</td>\n",
							"      <td>7.605803e+05</td>\n",
							"      <td>3.577134e+05</td>\n",
							"      <td>4.236612e+05</td>\n",
							"      <td>4.304848e+05</td>\n",
							"      <td>4.065539e+05</td>\n",
							"      <td>13.419061</td>\n",
							"      <td>13.624018</td>\n",
							"      <td>13.541837</td>\n",
							"      <td>13.429097</td>\n",
							"      <td>1.204010</td>\n",
							"      <td>0.536304</td>\n",
							"      <td>NaN</td>\n",
							"      <td>NaN</td>\n",
							"      <td>0.437243</td>\n",
							"      <td>0.521341</td>\n",
							"      <td>0.623499</td>\n",
							"      <td>0.534531</td>\n",
							"      <td>-0.125829</td>\n",
							"      <td>0.388830</td>\n",
							"      <td>-1.414214</td>\n",
							"      <td>NaN</td>\n",
							"      <td>2</td>\n",
							"      <td>2</td>\n",
							"      <td>2</td>\n",
							"      <td>24</td>\n",
							"      <td>1</td>\n",
							"      <td>0</td>\n",
							"      <td>1</td>\n",
							"      <td>4</td>\n",
							"      <td>NaN</td>\n",
							"      <td>NaN</td>\n",
							"      <td>NaN</td>\n",
							"      <td>NaN</td>\n",
							"      <td>...</td>\n",
							"      <td>0</td>\n",
							"      <td>0</td>\n",
							"      <td>0</td>\n",
							"      <td>0</td>\n",
							"      <td>0</td>\n",
							"      <td>0</td>\n",
							"      <td>0</td>\n",
							"      <td>0</td>\n",
							"      <td>0</td>\n",
							"      <td>1</td>\n",
							"      <td>2</td>\n",
							"      <td>0</td>\n",
							"      <td>1</td>\n",
							"      <td>2</td>\n",
							"      <td>0</td>\n",
							"      <td>0</td>\n",
							"      <td>0</td>\n",
							"      <td>0</td>\n",
							"      <td>0</td>\n",
							"      <td>1</td>\n",
							"      <td>2</td>\n",
							"      <td>0</td>\n",
							"      <td>0</td>\n",
							"      <td>0</td>\n",
							"      <td>0</td>\n",
							"      <td>0</td>\n",
							"      <td>1</td>\n",
							"      <td>2</td>\n",
							"      <td>0</td>\n",
							"      <td>0</td>\n",
							"      <td>0</td>\n",
							"      <td>0</td>\n",
							"      <td>0</td>\n",
							"      <td>0</td>\n",
							"      <td>702.0</td>\n",
							"      <td>702.0</td>\n",
							"      <td>644.0</td>\n",
							"      <td>951.0</td>\n",
							"      <td>951.0</td>\n",
							"      <td>743.0</td>\n",
							"    </tr>\n",
							"    <tr>\n",
							"      <th>4</th>\n",
							"      <td>RIHO584ET</td>\n",
							"      <td>0</td>\n",
							"      <td>-1.218742e+06</td>\n",
							"      <td>-3.005361e+06</td>\n",
							"      <td>-1.666241e+05</td>\n",
							"      <td>-2.403574e+06</td>\n",
							"      <td>2.583183e+06</td>\n",
							"      <td>2.086546e+06</td>\n",
							"      <td>5.938358e+06</td>\n",
							"      <td>5.446532e+06</td>\n",
							"      <td>3.473444e+06</td>\n",
							"      <td>3.262168e+06</td>\n",
							"      <td>NaN</td>\n",
							"      <td>14.764533</td>\n",
							"      <td>14.551021</td>\n",
							"      <td>NaN</td>\n",
							"      <td>NaN</td>\n",
							"      <td>NaN</td>\n",
							"      <td>NaN</td>\n",
							"      <td>NaN</td>\n",
							"      <td>NaN</td>\n",
							"      <td>1.344637</td>\n",
							"      <td>NaN</td>\n",
							"      <td>1.563430</td>\n",
							"      <td>-0.113101</td>\n",
							"      <td>0.617486</td>\n",
							"      <td>1.414214</td>\n",
							"      <td>NaN</td>\n",
							"      <td>4</td>\n",
							"      <td>3</td>\n",
							"      <td>4</td>\n",
							"      <td>68</td>\n",
							"      <td>8</td>\n",
							"      <td>0</td>\n",
							"      <td>2</td>\n",
							"      <td>4</td>\n",
							"      <td>NaN</td>\n",
							"      <td>3.0</td>\n",
							"      <td>NaN</td>\n",
							"      <td>NaN</td>\n",
							"      <td>...</td>\n",
							"      <td>0</td>\n",
							"      <td>0</td>\n",
							"      <td>0</td>\n",
							"      <td>0</td>\n",
							"      <td>0</td>\n",
							"      <td>0</td>\n",
							"      <td>2</td>\n",
							"      <td>1</td>\n",
							"      <td>0</td>\n",
							"      <td>0</td>\n",
							"      <td>0</td>\n",
							"      <td>0</td>\n",
							"      <td>2</td>\n",
							"      <td>1</td>\n",
							"      <td>2</td>\n",
							"      <td>1</td>\n",
							"      <td>0</td>\n",
							"      <td>0</td>\n",
							"      <td>0</td>\n",
							"      <td>0</td>\n",
							"      <td>0</td>\n",
							"      <td>0</td>\n",
							"      <td>0</td>\n",
							"      <td>0</td>\n",
							"      <td>0</td>\n",
							"      <td>0</td>\n",
							"      <td>0</td>\n",
							"      <td>0</td>\n",
							"      <td>2</td>\n",
							"      <td>0</td>\n",
							"      <td>0</td>\n",
							"      <td>0</td>\n",
							"      <td>0</td>\n",
							"      <td>0</td>\n",
							"      <td>1305.0</td>\n",
							"      <td>1305.0</td>\n",
							"      <td>1211.0</td>\n",
							"      <td>2205.0</td>\n",
							"      <td>2205.0</td>\n",
							"      <td>1831.0</td>\n",
							"    </tr>\n",
							"  </tbody>\n",
							"</table>\n",
							"<p>5 rows × 2395 columns</p>\n",
							"</div>"
						],
						"text/plain": [
							"        Col1  Col2          Col3  ...  Col2395  Col2396  Col2397\n",
							"0    RIGHGSN     1  1.086711e+04  ...     22.0     22.0      7.0\n",
							"1  RIMHI5ZGP     0  2.584312e+05  ...     12.0     12.0     11.0\n",
							"2  RIHOG1SZU     0  1.459355e+07  ...     21.0     21.0     16.0\n",
							"3  RIHOLMQWU     0  6.727043e+05  ...    951.0    951.0    743.0\n",
							"4  RIHO584ET     0 -1.218742e+06  ...   2205.0   2205.0   1831.0\n",
							"\n",
							"[5 rows x 2395 columns]"
						]
					},
					"metadata": {
						"tags": []
					},
					"execution_count": 20
				}
			]
		},
		{
			"cell_type": "code",
			"metadata": {
				"id": "JRBAAcGVJMgA",
				"colab_type": "code",
				"outputId": "ec682cad-101e-4923-892d-7e5e28147a00",
				"executionInfo": {
					"status": "ok",
					"timestamp": 1569770884740,
					"user_tz": -330,
					"elapsed": 11832,
					"user": {
						"displayName": "akash tomar",
						"photoUrl": "https://lh3.googleusercontent.com/a-/AAuE7mBxd66nwVXwS-GpO-tMlaeZCMfJdn-tZcKXzYhhig=s64",
						"userId": "03886037860232413560"
					}
				},
				"colab": {
					"base_uri": "https://localhost:8080/",
					"height": 192
				}
			},
			"source": [
				"#Importing thr test dataset\n",
				"test=pd.read_csv(\"Test.csv\")\n",
				"test.head(2)"
			],
			"execution_count": 21,
			"outputs": [
				{
					"output_type": "stream",
					"text": [
						"/usr/local/lib/python3.6/dist-packages/IPython/core/interactiveshell.py:2718: DtypeWarning: Columns (700,731,740,752,761,789,811,820,829,841,850) have mixed types. Specify dtype option on import or set low_memory=False.\n",
						"  interactivity=interactivity, compiler=compiler, result=result)\n"
					],
					"name": "stderr"
				},
				{
					"output_type": "execute_result",
					"data": {
						"text/html": [
							"<div>\n",
							"<style scoped>\n",
							"    .dataframe tbody tr th:only-of-type {\n",
							"        vertical-align: middle;\n",
							"    }\n",
							"\n",
							"    .dataframe tbody tr th {\n",
							"        vertical-align: top;\n",
							"    }\n",
							"\n",
							"    .dataframe thead th {\n",
							"        text-align: right;\n",
							"    }\n",
							"</style>\n",
							"<table border=\"1\" class=\"dataframe\">\n",
							"  <thead>\n",
							"    <tr style=\"text-align: right;\">\n",
							"      <th></th>\n",
							"      <th>Col1</th>\n",
							"      <th>Col3</th>\n",
							"      <th>Col4</th>\n",
							"      <th>Col5</th>\n",
							"      <th>Col6</th>\n",
							"      <th>Col7</th>\n",
							"      <th>Col8</th>\n",
							"      <th>Col9</th>\n",
							"      <th>Col10</th>\n",
							"      <th>Col11</th>\n",
							"      <th>Col12</th>\n",
							"      <th>Col13</th>\n",
							"      <th>Col14</th>\n",
							"      <th>Col15</th>\n",
							"      <th>Col16</th>\n",
							"      <th>Col17</th>\n",
							"      <th>Col18</th>\n",
							"      <th>Col19</th>\n",
							"      <th>Col20</th>\n",
							"      <th>Col21</th>\n",
							"      <th>Col22</th>\n",
							"      <th>Col23</th>\n",
							"      <th>Col24</th>\n",
							"      <th>Col25</th>\n",
							"      <th>Col26</th>\n",
							"      <th>Col27</th>\n",
							"      <th>Col28</th>\n",
							"      <th>Col29</th>\n",
							"      <th>Col30</th>\n",
							"      <th>Col31</th>\n",
							"      <th>Col32</th>\n",
							"      <th>Col33</th>\n",
							"      <th>Col34</th>\n",
							"      <th>Col35</th>\n",
							"      <th>Col36</th>\n",
							"      <th>Col37</th>\n",
							"      <th>Col38</th>\n",
							"      <th>Col39</th>\n",
							"      <th>Col40</th>\n",
							"      <th>Col41</th>\n",
							"      <th>...</th>\n",
							"      <th>Col2358</th>\n",
							"      <th>Col2359</th>\n",
							"      <th>Col2360</th>\n",
							"      <th>Col2361</th>\n",
							"      <th>Col2362</th>\n",
							"      <th>Col2363</th>\n",
							"      <th>Col2364</th>\n",
							"      <th>Col2365</th>\n",
							"      <th>Col2366</th>\n",
							"      <th>Col2367</th>\n",
							"      <th>Col2368</th>\n",
							"      <th>Col2369</th>\n",
							"      <th>Col2370</th>\n",
							"      <th>Col2371</th>\n",
							"      <th>Col2372</th>\n",
							"      <th>Col2373</th>\n",
							"      <th>Col2374</th>\n",
							"      <th>Col2375</th>\n",
							"      <th>Col2376</th>\n",
							"      <th>Col2377</th>\n",
							"      <th>Col2378</th>\n",
							"      <th>Col2379</th>\n",
							"      <th>Col2380</th>\n",
							"      <th>Col2381</th>\n",
							"      <th>Col2382</th>\n",
							"      <th>Col2383</th>\n",
							"      <th>Col2384</th>\n",
							"      <th>Col2385</th>\n",
							"      <th>Col2386</th>\n",
							"      <th>Col2387</th>\n",
							"      <th>Col2388</th>\n",
							"      <th>Col2389</th>\n",
							"      <th>Col2390</th>\n",
							"      <th>Col2391</th>\n",
							"      <th>Col2392</th>\n",
							"      <th>Col2393</th>\n",
							"      <th>Col2394</th>\n",
							"      <th>Col2395</th>\n",
							"      <th>Col2396</th>\n",
							"      <th>Col2397</th>\n",
							"    </tr>\n",
							"  </thead>\n",
							"  <tbody>\n",
							"    <tr>\n",
							"      <th>0</th>\n",
							"      <td>RIGD58ZWD</td>\n",
							"      <td>8.167140e+04</td>\n",
							"      <td>86145.420</td>\n",
							"      <td>7.532296e+04</td>\n",
							"      <td>7.532296e+04</td>\n",
							"      <td>112517.400</td>\n",
							"      <td>1.002778e+05</td>\n",
							"      <td>2.038915e+04</td>\n",
							"      <td>3.053853e+04</td>\n",
							"      <td>8.395911e+04</td>\n",
							"      <td>8.138800e+04</td>\n",
							"      <td>11.310459</td>\n",
							"      <td>11.630863</td>\n",
							"      <td>11.5157</td>\n",
							"      <td>11.22954</td>\n",
							"      <td>1.143681</td>\n",
							"      <td>0.879545</td>\n",
							"      <td>NaN</td>\n",
							"      <td>NaN</td>\n",
							"      <td>0.236683</td>\n",
							"      <td>0.746188</td>\n",
							"      <td>0.405435</td>\n",
							"      <td>0.811625</td>\n",
							"      <td>0.086109</td>\n",
							"      <td>0.238817</td>\n",
							"      <td>0.150242</td>\n",
							"      <td>NaN</td>\n",
							"      <td>3</td>\n",
							"      <td>3</td>\n",
							"      <td>6</td>\n",
							"      <td>6</td>\n",
							"      <td>6</td>\n",
							"      <td>0</td>\n",
							"      <td>1</td>\n",
							"      <td>5</td>\n",
							"      <td>19.0</td>\n",
							"      <td>NaN</td>\n",
							"      <td>NaN</td>\n",
							"      <td>39.0</td>\n",
							"      <td>NaN</td>\n",
							"      <td>...</td>\n",
							"      <td>0</td>\n",
							"      <td>0</td>\n",
							"      <td>0</td>\n",
							"      <td>0</td>\n",
							"      <td>0</td>\n",
							"      <td>0</td>\n",
							"      <td>0</td>\n",
							"      <td>0</td>\n",
							"      <td>0</td>\n",
							"      <td>0</td>\n",
							"      <td>0</td>\n",
							"      <td>0</td>\n",
							"      <td>1</td>\n",
							"      <td>1</td>\n",
							"      <td>1</td>\n",
							"      <td>1</td>\n",
							"      <td>0</td>\n",
							"      <td>0</td>\n",
							"      <td>0</td>\n",
							"      <td>0</td>\n",
							"      <td>0</td>\n",
							"      <td>0</td>\n",
							"      <td>0</td>\n",
							"      <td>0</td>\n",
							"      <td>0</td>\n",
							"      <td>0</td>\n",
							"      <td>0</td>\n",
							"      <td>0</td>\n",
							"      <td>0</td>\n",
							"      <td>0</td>\n",
							"      <td>0</td>\n",
							"      <td>0</td>\n",
							"      <td>0</td>\n",
							"      <td>0</td>\n",
							"      <td>44.0</td>\n",
							"      <td>44.0</td>\n",
							"      <td>23.0</td>\n",
							"      <td>41.0</td>\n",
							"      <td>41.0</td>\n",
							"      <td>36.0</td>\n",
							"    </tr>\n",
							"    <tr>\n",
							"      <th>1</th>\n",
							"      <td>RIH660YDS</td>\n",
							"      <td>-1.362824e+07</td>\n",
							"      <td>-4493042.782</td>\n",
							"      <td>-3.777257e+06</td>\n",
							"      <td>-4.493043e+06</td>\n",
							"      <td>-4749764.373</td>\n",
							"      <td>-4.749764e+06</td>\n",
							"      <td>1.147556e+07</td>\n",
							"      <td>1.147556e+07</td>\n",
							"      <td>1.272055e+07</td>\n",
							"      <td>1.272055e+07</td>\n",
							"      <td>NaN</td>\n",
							"      <td>NaN</td>\n",
							"      <td>NaN</td>\n",
							"      <td>NaN</td>\n",
							"      <td>NaN</td>\n",
							"      <td>-2.935756</td>\n",
							"      <td>-232.140528</td>\n",
							"      <td>-94.995287</td>\n",
							"      <td>NaN</td>\n",
							"      <td>NaN</td>\n",
							"      <td>NaN</td>\n",
							"      <td>NaN</td>\n",
							"      <td>-0.483522</td>\n",
							"      <td>-0.308259</td>\n",
							"      <td>-0.742190</td>\n",
							"      <td>NaN</td>\n",
							"      <td>6</td>\n",
							"      <td>5</td>\n",
							"      <td>7</td>\n",
							"      <td>19</td>\n",
							"      <td>9</td>\n",
							"      <td>0</td>\n",
							"      <td>2</td>\n",
							"      <td>6</td>\n",
							"      <td>2.0</td>\n",
							"      <td>0.0</td>\n",
							"      <td>NaN</td>\n",
							"      <td>5.0</td>\n",
							"      <td>4.0</td>\n",
							"      <td>...</td>\n",
							"      <td>0</td>\n",
							"      <td>0</td>\n",
							"      <td>1</td>\n",
							"      <td>0</td>\n",
							"      <td>0</td>\n",
							"      <td>0</td>\n",
							"      <td>2</td>\n",
							"      <td>2</td>\n",
							"      <td>1</td>\n",
							"      <td>1</td>\n",
							"      <td>0</td>\n",
							"      <td>0</td>\n",
							"      <td>1</td>\n",
							"      <td>2</td>\n",
							"      <td>1</td>\n",
							"      <td>1</td>\n",
							"      <td>2</td>\n",
							"      <td>1</td>\n",
							"      <td>1</td>\n",
							"      <td>1</td>\n",
							"      <td>2</td>\n",
							"      <td>1</td>\n",
							"      <td>3</td>\n",
							"      <td>1</td>\n",
							"      <td>2</td>\n",
							"      <td>1</td>\n",
							"      <td>0</td>\n",
							"      <td>0</td>\n",
							"      <td>1</td>\n",
							"      <td>1</td>\n",
							"      <td>1</td>\n",
							"      <td>1</td>\n",
							"      <td>2</td>\n",
							"      <td>2</td>\n",
							"      <td>1234.0</td>\n",
							"      <td>1234.0</td>\n",
							"      <td>680.0</td>\n",
							"      <td>154.0</td>\n",
							"      <td>153.0</td>\n",
							"      <td>86.0</td>\n",
							"    </tr>\n",
							"  </tbody>\n",
							"</table>\n",
							"<p>2 rows × 2394 columns</p>\n",
							"</div>"
						],
						"text/plain": [
							"        Col1          Col3         Col4  ...  Col2395  Col2396  Col2397\n",
							"0  RIGD58ZWD  8.167140e+04    86145.420  ...     41.0     41.0     36.0\n",
							"1  RIH660YDS -1.362824e+07 -4493042.782  ...    154.0    153.0     86.0\n",
							"\n",
							"[2 rows x 2394 columns]"
						]
					},
					"metadata": {
						"tags": []
					},
					"execution_count": 21
				}
			]
		},
		{
			"cell_type": "code",
			"metadata": {
				"id": "BME7r0ArJ2d2",
				"colab_type": "code",
				"colab": {}
			},
			"source": [
				"col_train = [col  for col, dt in train.dtypes.items() if dt == object]\n",
				"col_test = [col  for col, dt in test.dtypes.items() if dt == object]"
			],
			"execution_count": 0,
			"outputs": []
		},
		{
			"cell_type": "code",
			"metadata": {
				"id": "vwz9DeGnanFZ",
				"colab_type": "code",
				"outputId": "12d26ace-9079-45c5-9cca-32821bcd736f",
				"executionInfo": {
					"status": "ok",
					"timestamp": 1569751548258,
					"user_tz": -330,
					"elapsed": 11572,
					"user": {
						"displayName": "akash tomar",
						"photoUrl": "https://lh3.googleusercontent.com/a-/AAuE7mBxd66nwVXwS-GpO-tMlaeZCMfJdn-tZcKXzYhhig=s64",
						"userId": "03886037860232413560"
					}
				},
				"colab": {
					"base_uri": "https://localhost:8080/",
					"height": 52
				}
			},
			"source": [
				"print (col_train)\n",
				"print (col_test)"
			],
			"execution_count": 0,
			"outputs": [
				{
					"output_type": "stream",
					"text": [
						"['Col1', 'Col747', 'Col836']\n",
						"['Col1', 'Col702', 'Col733', 'Col742', 'Col754', 'Col763', 'Col791', 'Col813', 'Col822', 'Col831', 'Col843', 'Col852']\n"
					],
					"name": "stdout"
				}
			]
		},
		{
			"cell_type": "code",
			"metadata": {
				"id": "4rGoCjeyJ8QU",
				"colab_type": "code",
				"outputId": "b3f97989-3a0b-4f47-ec5f-676261940da2",
				"executionInfo": {
					"status": "ok",
					"timestamp": 1569771085708,
					"user_tz": -330,
					"elapsed": 1568,
					"user": {
						"displayName": "akash tomar",
						"photoUrl": "https://lh3.googleusercontent.com/a-/AAuE7mBxd66nwVXwS-GpO-tMlaeZCMfJdn-tZcKXzYhhig=s64",
						"userId": "03886037860232413560"
					}
				},
				"colab": {
					"base_uri": "https://localhost:8080/",
					"height": 265
				}
			},
			"source": [
				"final_col = list(set(col_test+col_train))\n",
				"final_col"
			],
			"execution_count": 23,
			"outputs": [
				{
					"output_type": "execute_result",
					"data": {
						"text/plain": [
							"['Col763',\n",
							" 'Col1',\n",
							" 'Col852',\n",
							" 'Col747',\n",
							" 'Col733',\n",
							" 'Col831',\n",
							" 'Col836',\n",
							" 'Col791',\n",
							" 'Col754',\n",
							" 'Col843',\n",
							" 'Col702',\n",
							" 'Col822',\n",
							" 'Col742',\n",
							" 'Col813']"
						]
					},
					"metadata": {
						"tags": []
					},
					"execution_count": 23
				}
			]
		},
		{
			"cell_type": "code",
			"metadata": {
				"id": "u-Ihzz7lKJsR",
				"colab_type": "code",
				"colab": {}
			},
			"source": [
				"train = train.drop(final_col, axis=1)\n",
				"test = test.drop(final_col, axis=1)"
			],
			"execution_count": 0,
			"outputs": []
		},
		{
			"cell_type": "code",
			"metadata": {
				"id": "KoBZYcXXKM43",
				"colab_type": "code",
				"colab": {}
			},
			"source": [
				"train1=train.fillna(train.mean())\n",
				"test1=test.fillna(test.mean())"
			],
			"execution_count": 0,
			"outputs": []
		},
		{
			"cell_type": "code",
			"metadata": {
				"id": "Rcu2mldsKW4a",
				"colab_type": "code",
				"outputId": "3aaf010f-9b91-478f-99e3-9e3f8fa33fb8",
				"executionInfo": {
					"status": "ok",
					"timestamp": 1569771099406,
					"user_tz": -330,
					"elapsed": 1148,
					"user": {
						"displayName": "akash tomar",
						"photoUrl": "https://lh3.googleusercontent.com/a-/AAuE7mBxd66nwVXwS-GpO-tMlaeZCMfJdn-tZcKXzYhhig=s64",
						"userId": "03886037860232413560"
					}
				},
				"colab": {
					"base_uri": "https://localhost:8080/",
					"height": 162
				}
			},
			"source": [
				"print (train1.shape)\n",
				"print (test1.shape)\n",
				"train1.head(1)"
			],
			"execution_count": 26,
			"outputs": [
				{
					"output_type": "stream",
					"text": [
						"(17521, 2381)\n",
						"(20442, 2380)\n"
					],
					"name": "stdout"
				},
				{
					"output_type": "execute_result",
					"data": {
						"text/html": [
							"<div>\n",
							"<style scoped>\n",
							"    .dataframe tbody tr th:only-of-type {\n",
							"        vertical-align: middle;\n",
							"    }\n",
							"\n",
							"    .dataframe tbody tr th {\n",
							"        vertical-align: top;\n",
							"    }\n",
							"\n",
							"    .dataframe thead th {\n",
							"        text-align: right;\n",
							"    }\n",
							"</style>\n",
							"<table border=\"1\" class=\"dataframe\">\n",
							"  <thead>\n",
							"    <tr style=\"text-align: right;\">\n",
							"      <th></th>\n",
							"      <th>Col2</th>\n",
							"      <th>Col3</th>\n",
							"      <th>Col4</th>\n",
							"      <th>Col5</th>\n",
							"      <th>Col6</th>\n",
							"      <th>Col7</th>\n",
							"      <th>Col8</th>\n",
							"      <th>Col9</th>\n",
							"      <th>Col10</th>\n",
							"      <th>Col11</th>\n",
							"      <th>Col12</th>\n",
							"      <th>Col13</th>\n",
							"      <th>Col14</th>\n",
							"      <th>Col15</th>\n",
							"      <th>Col16</th>\n",
							"      <th>Col17</th>\n",
							"      <th>Col18</th>\n",
							"      <th>Col19</th>\n",
							"      <th>Col20</th>\n",
							"      <th>Col21</th>\n",
							"      <th>Col22</th>\n",
							"      <th>Col23</th>\n",
							"      <th>Col24</th>\n",
							"      <th>Col25</th>\n",
							"      <th>Col26</th>\n",
							"      <th>Col27</th>\n",
							"      <th>Col28</th>\n",
							"      <th>Col29</th>\n",
							"      <th>Col30</th>\n",
							"      <th>Col31</th>\n",
							"      <th>Col32</th>\n",
							"      <th>Col33</th>\n",
							"      <th>Col34</th>\n",
							"      <th>Col35</th>\n",
							"      <th>Col36</th>\n",
							"      <th>Col37</th>\n",
							"      <th>Col38</th>\n",
							"      <th>Col39</th>\n",
							"      <th>Col40</th>\n",
							"      <th>Col41</th>\n",
							"      <th>...</th>\n",
							"      <th>Col2358</th>\n",
							"      <th>Col2359</th>\n",
							"      <th>Col2360</th>\n",
							"      <th>Col2361</th>\n",
							"      <th>Col2362</th>\n",
							"      <th>Col2363</th>\n",
							"      <th>Col2364</th>\n",
							"      <th>Col2365</th>\n",
							"      <th>Col2366</th>\n",
							"      <th>Col2367</th>\n",
							"      <th>Col2368</th>\n",
							"      <th>Col2369</th>\n",
							"      <th>Col2370</th>\n",
							"      <th>Col2371</th>\n",
							"      <th>Col2372</th>\n",
							"      <th>Col2373</th>\n",
							"      <th>Col2374</th>\n",
							"      <th>Col2375</th>\n",
							"      <th>Col2376</th>\n",
							"      <th>Col2377</th>\n",
							"      <th>Col2378</th>\n",
							"      <th>Col2379</th>\n",
							"      <th>Col2380</th>\n",
							"      <th>Col2381</th>\n",
							"      <th>Col2382</th>\n",
							"      <th>Col2383</th>\n",
							"      <th>Col2384</th>\n",
							"      <th>Col2385</th>\n",
							"      <th>Col2386</th>\n",
							"      <th>Col2387</th>\n",
							"      <th>Col2388</th>\n",
							"      <th>Col2389</th>\n",
							"      <th>Col2390</th>\n",
							"      <th>Col2391</th>\n",
							"      <th>Col2392</th>\n",
							"      <th>Col2393</th>\n",
							"      <th>Col2394</th>\n",
							"      <th>Col2395</th>\n",
							"      <th>Col2396</th>\n",
							"      <th>Col2397</th>\n",
							"    </tr>\n",
							"  </thead>\n",
							"  <tbody>\n",
							"    <tr>\n",
							"      <th>0</th>\n",
							"      <td>1</td>\n",
							"      <td>10867.11</td>\n",
							"      <td>8648.345</td>\n",
							"      <td>15766.17909</td>\n",
							"      <td>28904.66167</td>\n",
							"      <td>5273.655</td>\n",
							"      <td>23461.53167</td>\n",
							"      <td>12855.97163</td>\n",
							"      <td>28715.08876</td>\n",
							"      <td>9114.586439</td>\n",
							"      <td>30430.78152</td>\n",
							"      <td>9.293496</td>\n",
							"      <td>8.570479</td>\n",
							"      <td>10.063117</td>\n",
							"      <td>10.271758</td>\n",
							"      <td>0.548538</td>\n",
							"      <td>0.403366</td>\n",
							"      <td>37.651259</td>\n",
							"      <td>11.620315</td>\n",
							"      <td>1.486524</td>\n",
							"      <td>1.728324</td>\n",
							"      <td>0.993441</td>\n",
							"      <td>1.29705</td>\n",
							"      <td>0.137398</td>\n",
							"      <td>0.115987</td>\n",
							"      <td>0.260428</td>\n",
							"      <td>1.414214</td>\n",
							"      <td>1</td>\n",
							"      <td>1</td>\n",
							"      <td>1</td>\n",
							"      <td>1</td>\n",
							"      <td>1</td>\n",
							"      <td>1</td>\n",
							"      <td>0</td>\n",
							"      <td>6</td>\n",
							"      <td>7.666869</td>\n",
							"      <td>3.68107</td>\n",
							"      <td>3.985822</td>\n",
							"      <td>11.511579</td>\n",
							"      <td>3.5666</td>\n",
							"      <td>...</td>\n",
							"      <td>0</td>\n",
							"      <td>0</td>\n",
							"      <td>0</td>\n",
							"      <td>0</td>\n",
							"      <td>0</td>\n",
							"      <td>0</td>\n",
							"      <td>0</td>\n",
							"      <td>0</td>\n",
							"      <td>0</td>\n",
							"      <td>0</td>\n",
							"      <td>0</td>\n",
							"      <td>0</td>\n",
							"      <td>0</td>\n",
							"      <td>0</td>\n",
							"      <td>0</td>\n",
							"      <td>0</td>\n",
							"      <td>0</td>\n",
							"      <td>0</td>\n",
							"      <td>0</td>\n",
							"      <td>0</td>\n",
							"      <td>0</td>\n",
							"      <td>0</td>\n",
							"      <td>0</td>\n",
							"      <td>0</td>\n",
							"      <td>0</td>\n",
							"      <td>0</td>\n",
							"      <td>0</td>\n",
							"      <td>0</td>\n",
							"      <td>0</td>\n",
							"      <td>0</td>\n",
							"      <td>0</td>\n",
							"      <td>1</td>\n",
							"      <td>0</td>\n",
							"      <td>1</td>\n",
							"      <td>214.0</td>\n",
							"      <td>214.0</td>\n",
							"      <td>68.0</td>\n",
							"      <td>22.0</td>\n",
							"      <td>22.0</td>\n",
							"      <td>7.0</td>\n",
							"    </tr>\n",
							"  </tbody>\n",
							"</table>\n",
							"<p>1 rows × 2381 columns</p>\n",
							"</div>"
						],
						"text/plain": [
							"   Col2      Col3      Col4         Col5  ...  Col2394  Col2395  Col2396  Col2397\n",
							"0     1  10867.11  8648.345  15766.17909  ...     68.0     22.0     22.0      7.0\n",
							"\n",
							"[1 rows x 2381 columns]"
						]
					},
					"metadata": {
						"tags": []
					},
					"execution_count": 26
				}
			]
		},
		{
			"cell_type": "code",
			"metadata": {
				"id": "ZZZ4tD-4eCIZ",
				"colab_type": "code",
				"outputId": "0eca0406-e757-49a0-921a-1729753bfddf",
				"executionInfo": {
					"status": "ok",
					"timestamp": 1569771101440,
					"user_tz": -330,
					"elapsed": 2135,
					"user": {
						"displayName": "akash tomar",
						"photoUrl": "https://lh3.googleusercontent.com/a-/AAuE7mBxd66nwVXwS-GpO-tMlaeZCMfJdn-tZcKXzYhhig=s64",
						"userId": "03886037860232413560"
					}
				},
				"colab": {
					"base_uri": "https://localhost:8080/",
					"height": 174
				}
			},
			"source": [
				"print (test1.shape)\n",
				"test1.head(2)"
			],
			"execution_count": 27,
			"outputs": [
				{
					"output_type": "stream",
					"text": [
						"(20442, 2380)\n"
					],
					"name": "stdout"
				},
				{
					"output_type": "execute_result",
					"data": {
						"text/html": [
							"<div>\n",
							"<style scoped>\n",
							"    .dataframe tbody tr th:only-of-type {\n",
							"        vertical-align: middle;\n",
							"    }\n",
							"\n",
							"    .dataframe tbody tr th {\n",
							"        vertical-align: top;\n",
							"    }\n",
							"\n",
							"    .dataframe thead th {\n",
							"        text-align: right;\n",
							"    }\n",
							"</style>\n",
							"<table border=\"1\" class=\"dataframe\">\n",
							"  <thead>\n",
							"    <tr style=\"text-align: right;\">\n",
							"      <th></th>\n",
							"      <th>Col3</th>\n",
							"      <th>Col4</th>\n",
							"      <th>Col5</th>\n",
							"      <th>Col6</th>\n",
							"      <th>Col7</th>\n",
							"      <th>Col8</th>\n",
							"      <th>Col9</th>\n",
							"      <th>Col10</th>\n",
							"      <th>Col11</th>\n",
							"      <th>Col12</th>\n",
							"      <th>Col13</th>\n",
							"      <th>Col14</th>\n",
							"      <th>Col15</th>\n",
							"      <th>Col16</th>\n",
							"      <th>Col17</th>\n",
							"      <th>Col18</th>\n",
							"      <th>Col19</th>\n",
							"      <th>Col20</th>\n",
							"      <th>Col21</th>\n",
							"      <th>Col22</th>\n",
							"      <th>Col23</th>\n",
							"      <th>Col24</th>\n",
							"      <th>Col25</th>\n",
							"      <th>Col26</th>\n",
							"      <th>Col27</th>\n",
							"      <th>Col28</th>\n",
							"      <th>Col29</th>\n",
							"      <th>Col30</th>\n",
							"      <th>Col31</th>\n",
							"      <th>Col32</th>\n",
							"      <th>Col33</th>\n",
							"      <th>Col34</th>\n",
							"      <th>Col35</th>\n",
							"      <th>Col36</th>\n",
							"      <th>Col37</th>\n",
							"      <th>Col38</th>\n",
							"      <th>Col39</th>\n",
							"      <th>Col40</th>\n",
							"      <th>Col41</th>\n",
							"      <th>Col42</th>\n",
							"      <th>...</th>\n",
							"      <th>Col2358</th>\n",
							"      <th>Col2359</th>\n",
							"      <th>Col2360</th>\n",
							"      <th>Col2361</th>\n",
							"      <th>Col2362</th>\n",
							"      <th>Col2363</th>\n",
							"      <th>Col2364</th>\n",
							"      <th>Col2365</th>\n",
							"      <th>Col2366</th>\n",
							"      <th>Col2367</th>\n",
							"      <th>Col2368</th>\n",
							"      <th>Col2369</th>\n",
							"      <th>Col2370</th>\n",
							"      <th>Col2371</th>\n",
							"      <th>Col2372</th>\n",
							"      <th>Col2373</th>\n",
							"      <th>Col2374</th>\n",
							"      <th>Col2375</th>\n",
							"      <th>Col2376</th>\n",
							"      <th>Col2377</th>\n",
							"      <th>Col2378</th>\n",
							"      <th>Col2379</th>\n",
							"      <th>Col2380</th>\n",
							"      <th>Col2381</th>\n",
							"      <th>Col2382</th>\n",
							"      <th>Col2383</th>\n",
							"      <th>Col2384</th>\n",
							"      <th>Col2385</th>\n",
							"      <th>Col2386</th>\n",
							"      <th>Col2387</th>\n",
							"      <th>Col2388</th>\n",
							"      <th>Col2389</th>\n",
							"      <th>Col2390</th>\n",
							"      <th>Col2391</th>\n",
							"      <th>Col2392</th>\n",
							"      <th>Col2393</th>\n",
							"      <th>Col2394</th>\n",
							"      <th>Col2395</th>\n",
							"      <th>Col2396</th>\n",
							"      <th>Col2397</th>\n",
							"    </tr>\n",
							"  </thead>\n",
							"  <tbody>\n",
							"    <tr>\n",
							"      <th>0</th>\n",
							"      <td>8.167140e+04</td>\n",
							"      <td>86145.420</td>\n",
							"      <td>7.532296e+04</td>\n",
							"      <td>7.532296e+04</td>\n",
							"      <td>112517.400</td>\n",
							"      <td>1.002778e+05</td>\n",
							"      <td>2.038915e+04</td>\n",
							"      <td>3.053853e+04</td>\n",
							"      <td>8.395911e+04</td>\n",
							"      <td>8.138800e+04</td>\n",
							"      <td>11.310459</td>\n",
							"      <td>11.630863</td>\n",
							"      <td>11.515700</td>\n",
							"      <td>11.229540</td>\n",
							"      <td>1.143681</td>\n",
							"      <td>0.879545</td>\n",
							"      <td>34.210326</td>\n",
							"      <td>8.685433</td>\n",
							"      <td>0.236683</td>\n",
							"      <td>0.746188</td>\n",
							"      <td>0.405435</td>\n",
							"      <td>0.811625</td>\n",
							"      <td>0.086109</td>\n",
							"      <td>0.238817</td>\n",
							"      <td>0.150242</td>\n",
							"      <td>0.174794</td>\n",
							"      <td>3</td>\n",
							"      <td>3</td>\n",
							"      <td>6</td>\n",
							"      <td>6</td>\n",
							"      <td>6</td>\n",
							"      <td>0</td>\n",
							"      <td>1</td>\n",
							"      <td>5</td>\n",
							"      <td>19.0</td>\n",
							"      <td>3.352318</td>\n",
							"      <td>4.105281</td>\n",
							"      <td>39.0</td>\n",
							"      <td>3.647331</td>\n",
							"      <td>1.665</td>\n",
							"      <td>...</td>\n",
							"      <td>0</td>\n",
							"      <td>0</td>\n",
							"      <td>0</td>\n",
							"      <td>0</td>\n",
							"      <td>0</td>\n",
							"      <td>0</td>\n",
							"      <td>0</td>\n",
							"      <td>0</td>\n",
							"      <td>0</td>\n",
							"      <td>0</td>\n",
							"      <td>0</td>\n",
							"      <td>0</td>\n",
							"      <td>1</td>\n",
							"      <td>1</td>\n",
							"      <td>1</td>\n",
							"      <td>1</td>\n",
							"      <td>0</td>\n",
							"      <td>0</td>\n",
							"      <td>0</td>\n",
							"      <td>0</td>\n",
							"      <td>0</td>\n",
							"      <td>0</td>\n",
							"      <td>0</td>\n",
							"      <td>0</td>\n",
							"      <td>0</td>\n",
							"      <td>0</td>\n",
							"      <td>0</td>\n",
							"      <td>0</td>\n",
							"      <td>0</td>\n",
							"      <td>0</td>\n",
							"      <td>0</td>\n",
							"      <td>0</td>\n",
							"      <td>0</td>\n",
							"      <td>0</td>\n",
							"      <td>44.0</td>\n",
							"      <td>44.0</td>\n",
							"      <td>23.0</td>\n",
							"      <td>41.0</td>\n",
							"      <td>41.0</td>\n",
							"      <td>36.0</td>\n",
							"    </tr>\n",
							"    <tr>\n",
							"      <th>1</th>\n",
							"      <td>-1.362824e+07</td>\n",
							"      <td>-4493042.782</td>\n",
							"      <td>-3.777257e+06</td>\n",
							"      <td>-4.493043e+06</td>\n",
							"      <td>-4749764.373</td>\n",
							"      <td>-4.749764e+06</td>\n",
							"      <td>1.147556e+07</td>\n",
							"      <td>1.147556e+07</td>\n",
							"      <td>1.272055e+07</td>\n",
							"      <td>1.272055e+07</td>\n",
							"      <td>9.395002</td>\n",
							"      <td>9.136331</td>\n",
							"      <td>9.381553</td>\n",
							"      <td>9.324226</td>\n",
							"      <td>1.058392</td>\n",
							"      <td>-2.935756</td>\n",
							"      <td>-232.140528</td>\n",
							"      <td>-94.995287</td>\n",
							"      <td>1.017168</td>\n",
							"      <td>1.154246</td>\n",
							"      <td>0.745563</td>\n",
							"      <td>0.871645</td>\n",
							"      <td>-0.483522</td>\n",
							"      <td>-0.308259</td>\n",
							"      <td>-0.742190</td>\n",
							"      <td>0.174794</td>\n",
							"      <td>6</td>\n",
							"      <td>5</td>\n",
							"      <td>7</td>\n",
							"      <td>19</td>\n",
							"      <td>9</td>\n",
							"      <td>0</td>\n",
							"      <td>2</td>\n",
							"      <td>6</td>\n",
							"      <td>2.0</td>\n",
							"      <td>0.000000</td>\n",
							"      <td>4.105281</td>\n",
							"      <td>5.0</td>\n",
							"      <td>4.000000</td>\n",
							"      <td>-126.895</td>\n",
							"      <td>...</td>\n",
							"      <td>0</td>\n",
							"      <td>0</td>\n",
							"      <td>1</td>\n",
							"      <td>0</td>\n",
							"      <td>0</td>\n",
							"      <td>0</td>\n",
							"      <td>2</td>\n",
							"      <td>2</td>\n",
							"      <td>1</td>\n",
							"      <td>1</td>\n",
							"      <td>0</td>\n",
							"      <td>0</td>\n",
							"      <td>1</td>\n",
							"      <td>2</td>\n",
							"      <td>1</td>\n",
							"      <td>1</td>\n",
							"      <td>2</td>\n",
							"      <td>1</td>\n",
							"      <td>1</td>\n",
							"      <td>1</td>\n",
							"      <td>2</td>\n",
							"      <td>1</td>\n",
							"      <td>3</td>\n",
							"      <td>1</td>\n",
							"      <td>2</td>\n",
							"      <td>1</td>\n",
							"      <td>0</td>\n",
							"      <td>0</td>\n",
							"      <td>1</td>\n",
							"      <td>1</td>\n",
							"      <td>1</td>\n",
							"      <td>1</td>\n",
							"      <td>2</td>\n",
							"      <td>2</td>\n",
							"      <td>1234.0</td>\n",
							"      <td>1234.0</td>\n",
							"      <td>680.0</td>\n",
							"      <td>154.0</td>\n",
							"      <td>153.0</td>\n",
							"      <td>86.0</td>\n",
							"    </tr>\n",
							"  </tbody>\n",
							"</table>\n",
							"<p>2 rows × 2380 columns</p>\n",
							"</div>"
						],
						"text/plain": [
							"           Col3         Col4          Col5  ...  Col2395  Col2396  Col2397\n",
							"0  8.167140e+04    86145.420  7.532296e+04  ...     41.0     41.0     36.0\n",
							"1 -1.362824e+07 -4493042.782 -3.777257e+06  ...    154.0    153.0     86.0\n",
							"\n",
							"[2 rows x 2380 columns]"
						]
					},
					"metadata": {
						"tags": []
					},
					"execution_count": 27
				}
			]
		},
		{
			"cell_type": "code",
			"metadata": {
				"id": "Bt6hUgV1KqWm",
				"colab_type": "code",
				"outputId": "e608d5f4-b15b-47d1-ad81-be680bf1958b",
				"executionInfo": {
					"status": "ok",
					"timestamp": 1569771105870,
					"user_tz": -330,
					"elapsed": 3791,
					"user": {
						"displayName": "akash tomar",
						"photoUrl": "https://lh3.googleusercontent.com/a-/AAuE7mBxd66nwVXwS-GpO-tMlaeZCMfJdn-tZcKXzYhhig=s64",
						"userId": "03886037860232413560"
					}
				},
				"colab": {
					"base_uri": "https://localhost:8080/",
					"height": 34
				}
			},
			"source": [
				"max(train1.isnull().sum())"
			],
			"execution_count": 28,
			"outputs": [
				{
					"output_type": "execute_result",
					"data": {
						"text/plain": [
							"0"
						]
					},
					"metadata": {
						"tags": []
					},
					"execution_count": 28
				}
			]
		},
		{
			"cell_type": "code",
			"metadata": {
				"id": "1bxYMz-iINok",
				"colab_type": "code",
				"outputId": "99b57e26-fd0c-4ec4-952b-467d0a27b054",
				"executionInfo": {
					"status": "ok",
					"timestamp": 1569771108803,
					"user_tz": -330,
					"elapsed": 2979,
					"user": {
						"displayName": "akash tomar",
						"photoUrl": "https://lh3.googleusercontent.com/a-/AAuE7mBxd66nwVXwS-GpO-tMlaeZCMfJdn-tZcKXzYhhig=s64",
						"userId": "03886037860232413560"
					}
				},
				"colab": {
					"base_uri": "https://localhost:8080/",
					"height": 70
				}
			},
			"source": [
				"train1['Col2'].value_counts()"
			],
			"execution_count": 29,
			"outputs": [
				{
					"output_type": "execute_result",
					"data": {
						"text/plain": [
							"0    15760\n",
							"1     1761\n",
							"Name: Col2, dtype: int64"
						]
					},
					"metadata": {
						"tags": []
					},
					"execution_count": 29
				}
			]
		},
		{
			"cell_type": "code",
			"metadata": {
				"id": "VT5e5dh0ItSj",
				"colab_type": "code",
				"colab": {
					"base_uri": "https://localhost:8080/",
					"height": 174
				},
				"outputId": "a73810bd-6aa6-4276-d9ac-23942cf3ef78",
				"executionInfo": {
					"status": "ok",
					"timestamp": 1569771112765,
					"user_tz": -330,
					"elapsed": 2933,
					"user": {
						"displayName": "akash tomar",
						"photoUrl": "https://lh3.googleusercontent.com/a-/AAuE7mBxd66nwVXwS-GpO-tMlaeZCMfJdn-tZcKXzYhhig=s64",
						"userId": "03886037860232413560"
					}
				}
			},
			"source": [
				"##Upscaling the class '1'\n",
				"val1=train1[train1['Col2']==1]\n",
				"val0=train1[train1['Col2']==0]\n",
				"val=pd.concat([val1,val1,val1]*3,axis=0)\n",
				"print (val.shape)\n",
				"val.head(2)"
			],
			"execution_count": 30,
			"outputs": [
				{
					"output_type": "stream",
					"text": [
						"(15849, 2381)\n"
					],
					"name": "stdout"
				},
				{
					"output_type": "execute_result",
					"data": {
						"text/html": [
							"<div>\n",
							"<style scoped>\n",
							"    .dataframe tbody tr th:only-of-type {\n",
							"        vertical-align: middle;\n",
							"    }\n",
							"\n",
							"    .dataframe tbody tr th {\n",
							"        vertical-align: top;\n",
							"    }\n",
							"\n",
							"    .dataframe thead th {\n",
							"        text-align: right;\n",
							"    }\n",
							"</style>\n",
							"<table border=\"1\" class=\"dataframe\">\n",
							"  <thead>\n",
							"    <tr style=\"text-align: right;\">\n",
							"      <th></th>\n",
							"      <th>Col2</th>\n",
							"      <th>Col3</th>\n",
							"      <th>Col4</th>\n",
							"      <th>Col5</th>\n",
							"      <th>Col6</th>\n",
							"      <th>Col7</th>\n",
							"      <th>Col8</th>\n",
							"      <th>Col9</th>\n",
							"      <th>Col10</th>\n",
							"      <th>Col11</th>\n",
							"      <th>Col12</th>\n",
							"      <th>Col13</th>\n",
							"      <th>Col14</th>\n",
							"      <th>Col15</th>\n",
							"      <th>Col16</th>\n",
							"      <th>Col17</th>\n",
							"      <th>Col18</th>\n",
							"      <th>Col19</th>\n",
							"      <th>Col20</th>\n",
							"      <th>Col21</th>\n",
							"      <th>Col22</th>\n",
							"      <th>Col23</th>\n",
							"      <th>Col24</th>\n",
							"      <th>Col25</th>\n",
							"      <th>Col26</th>\n",
							"      <th>Col27</th>\n",
							"      <th>Col28</th>\n",
							"      <th>Col29</th>\n",
							"      <th>Col30</th>\n",
							"      <th>Col31</th>\n",
							"      <th>Col32</th>\n",
							"      <th>Col33</th>\n",
							"      <th>Col34</th>\n",
							"      <th>Col35</th>\n",
							"      <th>Col36</th>\n",
							"      <th>Col37</th>\n",
							"      <th>Col38</th>\n",
							"      <th>Col39</th>\n",
							"      <th>Col40</th>\n",
							"      <th>Col41</th>\n",
							"      <th>...</th>\n",
							"      <th>Col2358</th>\n",
							"      <th>Col2359</th>\n",
							"      <th>Col2360</th>\n",
							"      <th>Col2361</th>\n",
							"      <th>Col2362</th>\n",
							"      <th>Col2363</th>\n",
							"      <th>Col2364</th>\n",
							"      <th>Col2365</th>\n",
							"      <th>Col2366</th>\n",
							"      <th>Col2367</th>\n",
							"      <th>Col2368</th>\n",
							"      <th>Col2369</th>\n",
							"      <th>Col2370</th>\n",
							"      <th>Col2371</th>\n",
							"      <th>Col2372</th>\n",
							"      <th>Col2373</th>\n",
							"      <th>Col2374</th>\n",
							"      <th>Col2375</th>\n",
							"      <th>Col2376</th>\n",
							"      <th>Col2377</th>\n",
							"      <th>Col2378</th>\n",
							"      <th>Col2379</th>\n",
							"      <th>Col2380</th>\n",
							"      <th>Col2381</th>\n",
							"      <th>Col2382</th>\n",
							"      <th>Col2383</th>\n",
							"      <th>Col2384</th>\n",
							"      <th>Col2385</th>\n",
							"      <th>Col2386</th>\n",
							"      <th>Col2387</th>\n",
							"      <th>Col2388</th>\n",
							"      <th>Col2389</th>\n",
							"      <th>Col2390</th>\n",
							"      <th>Col2391</th>\n",
							"      <th>Col2392</th>\n",
							"      <th>Col2393</th>\n",
							"      <th>Col2394</th>\n",
							"      <th>Col2395</th>\n",
							"      <th>Col2396</th>\n",
							"      <th>Col2397</th>\n",
							"    </tr>\n",
							"  </thead>\n",
							"  <tbody>\n",
							"    <tr>\n",
							"      <th>0</th>\n",
							"      <td>1</td>\n",
							"      <td>10867.11</td>\n",
							"      <td>8648.3450</td>\n",
							"      <td>15766.17909</td>\n",
							"      <td>28904.66167</td>\n",
							"      <td>5273.6550</td>\n",
							"      <td>23461.53167</td>\n",
							"      <td>12855.97163</td>\n",
							"      <td>28715.08876</td>\n",
							"      <td>9114.586439</td>\n",
							"      <td>30430.78152</td>\n",
							"      <td>9.293496</td>\n",
							"      <td>8.570479</td>\n",
							"      <td>10.063117</td>\n",
							"      <td>10.271758</td>\n",
							"      <td>0.548538</td>\n",
							"      <td>0.403366</td>\n",
							"      <td>37.651259</td>\n",
							"      <td>11.620315</td>\n",
							"      <td>1.486524</td>\n",
							"      <td>1.728324</td>\n",
							"      <td>0.993441</td>\n",
							"      <td>1.297050</td>\n",
							"      <td>0.137398</td>\n",
							"      <td>0.115987</td>\n",
							"      <td>0.260428</td>\n",
							"      <td>1.414214</td>\n",
							"      <td>1</td>\n",
							"      <td>1</td>\n",
							"      <td>1</td>\n",
							"      <td>1</td>\n",
							"      <td>1</td>\n",
							"      <td>1</td>\n",
							"      <td>0</td>\n",
							"      <td>6</td>\n",
							"      <td>7.666869</td>\n",
							"      <td>3.68107</td>\n",
							"      <td>3.985822</td>\n",
							"      <td>11.511579</td>\n",
							"      <td>3.5666</td>\n",
							"      <td>...</td>\n",
							"      <td>0</td>\n",
							"      <td>0</td>\n",
							"      <td>0</td>\n",
							"      <td>0</td>\n",
							"      <td>0</td>\n",
							"      <td>0</td>\n",
							"      <td>0</td>\n",
							"      <td>0</td>\n",
							"      <td>0</td>\n",
							"      <td>0</td>\n",
							"      <td>0</td>\n",
							"      <td>0</td>\n",
							"      <td>0</td>\n",
							"      <td>0</td>\n",
							"      <td>0</td>\n",
							"      <td>0</td>\n",
							"      <td>0</td>\n",
							"      <td>0</td>\n",
							"      <td>0</td>\n",
							"      <td>0</td>\n",
							"      <td>0</td>\n",
							"      <td>0</td>\n",
							"      <td>0</td>\n",
							"      <td>0</td>\n",
							"      <td>0</td>\n",
							"      <td>0</td>\n",
							"      <td>0</td>\n",
							"      <td>0</td>\n",
							"      <td>0</td>\n",
							"      <td>0</td>\n",
							"      <td>0</td>\n",
							"      <td>1</td>\n",
							"      <td>0</td>\n",
							"      <td>1</td>\n",
							"      <td>214.0</td>\n",
							"      <td>214.0</td>\n",
							"      <td>68.0</td>\n",
							"      <td>22.0</td>\n",
							"      <td>22.0</td>\n",
							"      <td>7.0</td>\n",
							"    </tr>\n",
							"    <tr>\n",
							"      <th>40</th>\n",
							"      <td>1</td>\n",
							"      <td>121155.36</td>\n",
							"      <td>126414.3033</td>\n",
							"      <td>108456.50860</td>\n",
							"      <td>126414.30330</td>\n",
							"      <td>119791.5833</td>\n",
							"      <td>119791.58330</td>\n",
							"      <td>85149.82114</td>\n",
							"      <td>85149.82114</td>\n",
							"      <td>95135.691920</td>\n",
							"      <td>95135.69192</td>\n",
							"      <td>11.704829</td>\n",
							"      <td>11.693509</td>\n",
							"      <td>11.693509</td>\n",
							"      <td>11.747320</td>\n",
							"      <td>1.165576</td>\n",
							"      <td>0.920121</td>\n",
							"      <td>178.113539</td>\n",
							"      <td>10.888164</td>\n",
							"      <td>0.673577</td>\n",
							"      <td>0.794177</td>\n",
							"      <td>0.673577</td>\n",
							"      <td>0.794177</td>\n",
							"      <td>-0.026005</td>\n",
							"      <td>-0.172365</td>\n",
							"      <td>-0.115489</td>\n",
							"      <td>0.158979</td>\n",
							"      <td>1</td>\n",
							"      <td>1</td>\n",
							"      <td>1</td>\n",
							"      <td>1</td>\n",
							"      <td>1</td>\n",
							"      <td>1</td>\n",
							"      <td>0</td>\n",
							"      <td>6</td>\n",
							"      <td>7.666869</td>\n",
							"      <td>3.68107</td>\n",
							"      <td>3.985822</td>\n",
							"      <td>11.511579</td>\n",
							"      <td>3.5666</td>\n",
							"      <td>...</td>\n",
							"      <td>0</td>\n",
							"      <td>0</td>\n",
							"      <td>0</td>\n",
							"      <td>0</td>\n",
							"      <td>0</td>\n",
							"      <td>0</td>\n",
							"      <td>0</td>\n",
							"      <td>0</td>\n",
							"      <td>0</td>\n",
							"      <td>0</td>\n",
							"      <td>0</td>\n",
							"      <td>0</td>\n",
							"      <td>0</td>\n",
							"      <td>0</td>\n",
							"      <td>0</td>\n",
							"      <td>0</td>\n",
							"      <td>0</td>\n",
							"      <td>0</td>\n",
							"      <td>0</td>\n",
							"      <td>0</td>\n",
							"      <td>0</td>\n",
							"      <td>0</td>\n",
							"      <td>0</td>\n",
							"      <td>0</td>\n",
							"      <td>0</td>\n",
							"      <td>0</td>\n",
							"      <td>0</td>\n",
							"      <td>0</td>\n",
							"      <td>0</td>\n",
							"      <td>0</td>\n",
							"      <td>0</td>\n",
							"      <td>0</td>\n",
							"      <td>0</td>\n",
							"      <td>0</td>\n",
							"      <td>6.0</td>\n",
							"      <td>6.0</td>\n",
							"      <td>4.0</td>\n",
							"      <td>8.0</td>\n",
							"      <td>6.0</td>\n",
							"      <td>1.0</td>\n",
							"    </tr>\n",
							"  </tbody>\n",
							"</table>\n",
							"<p>2 rows × 2381 columns</p>\n",
							"</div>"
						],
						"text/plain": [
							"    Col2       Col3         Col4  ...  Col2395  Col2396  Col2397\n",
							"0      1   10867.11    8648.3450  ...     22.0     22.0      7.0\n",
							"40     1  121155.36  126414.3033  ...      8.0      6.0      1.0\n",
							"\n",
							"[2 rows x 2381 columns]"
						]
					},
					"metadata": {
						"tags": []
					},
					"execution_count": 30
				}
			]
		},
		{
			"cell_type": "code",
			"metadata": {
				"id": "-nHNHoTBNaQb",
				"colab_type": "code",
				"outputId": "2a9fe17d-dbe8-4957-aa4c-c210f3321a6b",
				"executionInfo": {
					"status": "ok",
					"timestamp": 1569771115065,
					"user_tz": -330,
					"elapsed": 1847,
					"user": {
						"displayName": "akash tomar",
						"photoUrl": "https://lh3.googleusercontent.com/a-/AAuE7mBxd66nwVXwS-GpO-tMlaeZCMfJdn-tZcKXzYhhig=s64",
						"userId": "03886037860232413560"
					}
				},
				"colab": {
					"base_uri": "https://localhost:8080/",
					"height": 70
				}
			},
			"source": [
				"val=val.sample(15760)\n",
				"print (val.shape)\n",
				"val['Col2'].value_counts()"
			],
			"execution_count": 31,
			"outputs": [
				{
					"output_type": "stream",
					"text": [
						"(15760, 2381)\n"
					],
					"name": "stdout"
				},
				{
					"output_type": "execute_result",
					"data": {
						"text/plain": [
							"1    15760\n",
							"Name: Col2, dtype: int64"
						]
					},
					"metadata": {
						"tags": []
					},
					"execution_count": 31
				}
			]
		},
		{
			"cell_type": "code",
			"metadata": {
				"id": "FTyCvqBZOQtI",
				"colab_type": "code",
				"outputId": "714cc61e-0e6a-4798-d883-77f40dff6566",
				"executionInfo": {
					"status": "ok",
					"timestamp": 1569771208245,
					"user_tz": -330,
					"elapsed": 3183,
					"user": {
						"displayName": "akash tomar",
						"photoUrl": "https://lh3.googleusercontent.com/a-/AAuE7mBxd66nwVXwS-GpO-tMlaeZCMfJdn-tZcKXzYhhig=s64",
						"userId": "03886037860232413560"
					}
				},
				"colab": {
					"base_uri": "https://localhost:8080/",
					"height": 34
				}
			},
			"source": [
				"train2=pd.concat([val0,val],axis=0)\n",
				"train2.shape\n",
				"from sklearn.utils import shuffle\n",
				"df = shuffle(train2)\n",
				"df.shape"
			],
			"execution_count": 34,
			"outputs": [
				{
					"output_type": "execute_result",
					"data": {
						"text/plain": [
							"(31520, 2381)"
						]
					},
					"metadata": {
						"tags": []
					},
					"execution_count": 34
				}
			]
		},
		{
			"cell_type": "code",
			"metadata": {
				"id": "j6kQqmS9s2Zu",
				"colab_type": "code",
				"colab": {
					"base_uri": "https://localhost:8080/",
					"height": 70
				},
				"outputId": "14672801-495e-4d46-cd41-f9aeaaf0a3d9",
				"executionInfo": {
					"status": "ok",
					"timestamp": 1569771227685,
					"user_tz": -330,
					"elapsed": 993,
					"user": {
						"displayName": "akash tomar",
						"photoUrl": "https://lh3.googleusercontent.com/a-/AAuE7mBxd66nwVXwS-GpO-tMlaeZCMfJdn-tZcKXzYhhig=s64",
						"userId": "03886037860232413560"
					}
				}
			},
			"source": [
				"##Upscaling the lower class\n",
				"df['Col2'].value_counts()\n",
				"#val0=val0.sample(2000)"
			],
			"execution_count": 36,
			"outputs": [
				{
					"output_type": "execute_result",
					"data": {
						"text/plain": [
							"1    15760\n",
							"0    15760\n",
							"Name: Col2, dtype: int64"
						]
					},
					"metadata": {
						"tags": []
					},
					"execution_count": 36
				}
			]
		},
		{
			"cell_type": "code",
			"metadata": {
				"id": "D1Bp039BMRl0",
				"colab_type": "code",
				"colab": {}
			},
			"source": [
				"#Splitting the dataset into dependent and Independent dataset.\n",
				"X=df.iloc[:,train2.columns!='Col2']\n",
				"Y=df['Col2']"
			],
			"execution_count": 0,
			"outputs": []
		},
		{
			"cell_type": "code",
			"metadata": {
				"id": "-EswoC1QMZEL",
				"colab_type": "code",
				"outputId": "f75f120c-a41b-47fa-9980-8748fd47cfd4",
				"executionInfo": {
					"status": "ok",
					"timestamp": 1569771332135,
					"user_tz": -330,
					"elapsed": 1191,
					"user": {
						"displayName": "akash tomar",
						"photoUrl": "https://lh3.googleusercontent.com/a-/AAuE7mBxd66nwVXwS-GpO-tMlaeZCMfJdn-tZcKXzYhhig=s64",
						"userId": "03886037860232413560"
					}
				},
				"colab": {
					"base_uri": "https://localhost:8080/",
					"height": 70
				}
			},
			"source": [
				"df['Col2'].value_counts()"
			],
			"execution_count": 37,
			"outputs": [
				{
					"output_type": "execute_result",
					"data": {
						"text/plain": [
							"1    15760\n",
							"0    15760\n",
							"Name: Col2, dtype: int64"
						]
					},
					"metadata": {
						"tags": []
					},
					"execution_count": 37
				}
			]
		},
		{
			"cell_type": "code",
			"metadata": {
				"id": "v1RkIg6zMkia",
				"colab_type": "code",
				"colab": {}
			},
			"source": [
				"## Normalizing the dataset(Train,Test)\n",
				"from sklearn.preprocessing import StandardScaler,Normalizer\n",
				"sc=Normalizer()\n",
				"sc1=Normalizer()\n",
				"new_mod=sc.fit_transform(X)\n",
				"new_mod=pd.DataFrame(new_mod,columns=X.columns)\n",
				"\n",
				"new_test=sc1.fit_transform(test1)\n",
				"new_test=pd.DataFrame(new_test,columns=test1.columns)"
			],
			"execution_count": 0,
			"outputs": []
		},
		{
			"cell_type": "code",
			"metadata": {
				"id": "aoxDOIh3Mz8f",
				"colab_type": "code",
				"outputId": "3a73be1a-8bf2-4c96-c8e8-9173ac35eec5",
				"executionInfo": {
					"status": "ok",
					"timestamp": 1569771403236,
					"user_tz": -330,
					"elapsed": 1061,
					"user": {
						"displayName": "akash tomar",
						"photoUrl": "https://lh3.googleusercontent.com/a-/AAuE7mBxd66nwVXwS-GpO-tMlaeZCMfJdn-tZcKXzYhhig=s64",
						"userId": "03886037860232413560"
					}
				},
				"colab": {
					"base_uri": "https://localhost:8080/",
					"height": 143
				}
			},
			"source": [
				"new_mod.head(1)"
			],
			"execution_count": 41,
			"outputs": [
				{
					"output_type": "execute_result",
					"data": {
						"text/html": [
							"<div>\n",
							"<style scoped>\n",
							"    .dataframe tbody tr th:only-of-type {\n",
							"        vertical-align: middle;\n",
							"    }\n",
							"\n",
							"    .dataframe tbody tr th {\n",
							"        vertical-align: top;\n",
							"    }\n",
							"\n",
							"    .dataframe thead th {\n",
							"        text-align: right;\n",
							"    }\n",
							"</style>\n",
							"<table border=\"1\" class=\"dataframe\">\n",
							"  <thead>\n",
							"    <tr style=\"text-align: right;\">\n",
							"      <th></th>\n",
							"      <th>Col3</th>\n",
							"      <th>Col4</th>\n",
							"      <th>Col5</th>\n",
							"      <th>Col6</th>\n",
							"      <th>Col7</th>\n",
							"      <th>Col8</th>\n",
							"      <th>Col9</th>\n",
							"      <th>Col10</th>\n",
							"      <th>Col11</th>\n",
							"      <th>Col12</th>\n",
							"      <th>Col13</th>\n",
							"      <th>Col14</th>\n",
							"      <th>Col15</th>\n",
							"      <th>Col16</th>\n",
							"      <th>Col17</th>\n",
							"      <th>Col18</th>\n",
							"      <th>Col19</th>\n",
							"      <th>Col20</th>\n",
							"      <th>Col21</th>\n",
							"      <th>Col22</th>\n",
							"      <th>Col23</th>\n",
							"      <th>Col24</th>\n",
							"      <th>Col25</th>\n",
							"      <th>Col26</th>\n",
							"      <th>Col27</th>\n",
							"      <th>Col28</th>\n",
							"      <th>Col29</th>\n",
							"      <th>Col30</th>\n",
							"      <th>Col31</th>\n",
							"      <th>Col32</th>\n",
							"      <th>Col33</th>\n",
							"      <th>Col34</th>\n",
							"      <th>Col35</th>\n",
							"      <th>Col36</th>\n",
							"      <th>Col37</th>\n",
							"      <th>Col38</th>\n",
							"      <th>Col39</th>\n",
							"      <th>Col40</th>\n",
							"      <th>Col41</th>\n",
							"      <th>Col42</th>\n",
							"      <th>...</th>\n",
							"      <th>Col2358</th>\n",
							"      <th>Col2359</th>\n",
							"      <th>Col2360</th>\n",
							"      <th>Col2361</th>\n",
							"      <th>Col2362</th>\n",
							"      <th>Col2363</th>\n",
							"      <th>Col2364</th>\n",
							"      <th>Col2365</th>\n",
							"      <th>Col2366</th>\n",
							"      <th>Col2367</th>\n",
							"      <th>Col2368</th>\n",
							"      <th>Col2369</th>\n",
							"      <th>Col2370</th>\n",
							"      <th>Col2371</th>\n",
							"      <th>Col2372</th>\n",
							"      <th>Col2373</th>\n",
							"      <th>Col2374</th>\n",
							"      <th>Col2375</th>\n",
							"      <th>Col2376</th>\n",
							"      <th>Col2377</th>\n",
							"      <th>Col2378</th>\n",
							"      <th>Col2379</th>\n",
							"      <th>Col2380</th>\n",
							"      <th>Col2381</th>\n",
							"      <th>Col2382</th>\n",
							"      <th>Col2383</th>\n",
							"      <th>Col2384</th>\n",
							"      <th>Col2385</th>\n",
							"      <th>Col2386</th>\n",
							"      <th>Col2387</th>\n",
							"      <th>Col2388</th>\n",
							"      <th>Col2389</th>\n",
							"      <th>Col2390</th>\n",
							"      <th>Col2391</th>\n",
							"      <th>Col2392</th>\n",
							"      <th>Col2393</th>\n",
							"      <th>Col2394</th>\n",
							"      <th>Col2395</th>\n",
							"      <th>Col2396</th>\n",
							"      <th>Col2397</th>\n",
							"    </tr>\n",
							"  </thead>\n",
							"  <tbody>\n",
							"    <tr>\n",
							"      <th>0</th>\n",
							"      <td>0.112809</td>\n",
							"      <td>0.063949</td>\n",
							"      <td>0.067509</td>\n",
							"      <td>0.120056</td>\n",
							"      <td>0.079599</td>\n",
							"      <td>0.133837</td>\n",
							"      <td>0.057883</td>\n",
							"      <td>0.009862</td>\n",
							"      <td>0.070132</td>\n",
							"      <td>0.027153</td>\n",
							"      <td>0.000104</td>\n",
							"      <td>0.0001</td>\n",
							"      <td>0.000106</td>\n",
							"      <td>0.000105</td>\n",
							"      <td>0.000011</td>\n",
							"      <td>0.00001</td>\n",
							"      <td>0.000173</td>\n",
							"      <td>0.00006</td>\n",
							"      <td>0.00001</td>\n",
							"      <td>0.00001</td>\n",
							"      <td>9.277266e-07</td>\n",
							"      <td>0.000002</td>\n",
							"      <td>0.000003</td>\n",
							"      <td>0.000002</td>\n",
							"      <td>0.000003</td>\n",
							"      <td>-0.000008</td>\n",
							"      <td>0.000011</td>\n",
							"      <td>0.000011</td>\n",
							"      <td>0.000011</td>\n",
							"      <td>0.000011</td>\n",
							"      <td>0.000011</td>\n",
							"      <td>0.000011</td>\n",
							"      <td>0.0</td>\n",
							"      <td>0.000068</td>\n",
							"      <td>0.000087</td>\n",
							"      <td>0.000042</td>\n",
							"      <td>0.000045</td>\n",
							"      <td>0.00013</td>\n",
							"      <td>0.00004</td>\n",
							"      <td>0.000694</td>\n",
							"      <td>...</td>\n",
							"      <td>0.0</td>\n",
							"      <td>0.000011</td>\n",
							"      <td>0.0</td>\n",
							"      <td>0.0</td>\n",
							"      <td>0.0</td>\n",
							"      <td>0.000011</td>\n",
							"      <td>0.0</td>\n",
							"      <td>0.0</td>\n",
							"      <td>0.0</td>\n",
							"      <td>0.0</td>\n",
							"      <td>0.000034</td>\n",
							"      <td>0.000011</td>\n",
							"      <td>0.000034</td>\n",
							"      <td>0.000023</td>\n",
							"      <td>0.0</td>\n",
							"      <td>0.0</td>\n",
							"      <td>0.0</td>\n",
							"      <td>0.0</td>\n",
							"      <td>0.000034</td>\n",
							"      <td>0.000011</td>\n",
							"      <td>0.000034</td>\n",
							"      <td>0.000011</td>\n",
							"      <td>0.0</td>\n",
							"      <td>0.0</td>\n",
							"      <td>0.0</td>\n",
							"      <td>0.0</td>\n",
							"      <td>0.0</td>\n",
							"      <td>0.0</td>\n",
							"      <td>0.0</td>\n",
							"      <td>0.0</td>\n",
							"      <td>0.000011</td>\n",
							"      <td>0.000023</td>\n",
							"      <td>0.000011</td>\n",
							"      <td>0.000023</td>\n",
							"      <td>0.000316</td>\n",
							"      <td>0.000282</td>\n",
							"      <td>0.000102</td>\n",
							"      <td>0.000192</td>\n",
							"      <td>0.000169</td>\n",
							"      <td>0.000079</td>\n",
							"    </tr>\n",
							"  </tbody>\n",
							"</table>\n",
							"<p>1 rows × 2380 columns</p>\n",
							"</div>"
						],
						"text/plain": [
							"       Col3      Col4      Col5  ...   Col2395   Col2396   Col2397\n",
							"0  0.112809  0.063949  0.067509  ...  0.000192  0.000169  0.000079\n",
							"\n",
							"[1 rows x 2380 columns]"
						]
					},
					"metadata": {
						"tags": []
					},
					"execution_count": 41
				}
			]
		},
		{
			"cell_type": "code",
			"metadata": {
				"id": "wl6qEXcQvREl",
				"colab_type": "code",
				"outputId": "7183621a-25b3-4190-9b5c-c51f178c4792",
				"executionInfo": {
					"status": "ok",
					"timestamp": 1569771405036,
					"user_tz": -330,
					"elapsed": 1354,
					"user": {
						"displayName": "akash tomar",
						"photoUrl": "https://lh3.googleusercontent.com/a-/AAuE7mBxd66nwVXwS-GpO-tMlaeZCMfJdn-tZcKXzYhhig=s64",
						"userId": "03886037860232413560"
					}
				},
				"colab": {
					"base_uri": "https://localhost:8080/",
					"height": 143
				}
			},
			"source": [
				"new_test.head(1)"
			],
			"execution_count": 42,
			"outputs": [
				{
					"output_type": "execute_result",
					"data": {
						"text/html": [
							"<div>\n",
							"<style scoped>\n",
							"    .dataframe tbody tr th:only-of-type {\n",
							"        vertical-align: middle;\n",
							"    }\n",
							"\n",
							"    .dataframe tbody tr th {\n",
							"        vertical-align: top;\n",
							"    }\n",
							"\n",
							"    .dataframe thead th {\n",
							"        text-align: right;\n",
							"    }\n",
							"</style>\n",
							"<table border=\"1\" class=\"dataframe\">\n",
							"  <thead>\n",
							"    <tr style=\"text-align: right;\">\n",
							"      <th></th>\n",
							"      <th>Col3</th>\n",
							"      <th>Col4</th>\n",
							"      <th>Col5</th>\n",
							"      <th>Col6</th>\n",
							"      <th>Col7</th>\n",
							"      <th>Col8</th>\n",
							"      <th>Col9</th>\n",
							"      <th>Col10</th>\n",
							"      <th>Col11</th>\n",
							"      <th>Col12</th>\n",
							"      <th>Col13</th>\n",
							"      <th>Col14</th>\n",
							"      <th>Col15</th>\n",
							"      <th>Col16</th>\n",
							"      <th>Col17</th>\n",
							"      <th>Col18</th>\n",
							"      <th>Col19</th>\n",
							"      <th>Col20</th>\n",
							"      <th>Col21</th>\n",
							"      <th>Col22</th>\n",
							"      <th>Col23</th>\n",
							"      <th>Col24</th>\n",
							"      <th>Col25</th>\n",
							"      <th>Col26</th>\n",
							"      <th>Col27</th>\n",
							"      <th>Col28</th>\n",
							"      <th>Col29</th>\n",
							"      <th>Col30</th>\n",
							"      <th>Col31</th>\n",
							"      <th>Col32</th>\n",
							"      <th>Col33</th>\n",
							"      <th>Col34</th>\n",
							"      <th>Col35</th>\n",
							"      <th>Col36</th>\n",
							"      <th>Col37</th>\n",
							"      <th>Col38</th>\n",
							"      <th>Col39</th>\n",
							"      <th>Col40</th>\n",
							"      <th>Col41</th>\n",
							"      <th>Col42</th>\n",
							"      <th>...</th>\n",
							"      <th>Col2358</th>\n",
							"      <th>Col2359</th>\n",
							"      <th>Col2360</th>\n",
							"      <th>Col2361</th>\n",
							"      <th>Col2362</th>\n",
							"      <th>Col2363</th>\n",
							"      <th>Col2364</th>\n",
							"      <th>Col2365</th>\n",
							"      <th>Col2366</th>\n",
							"      <th>Col2367</th>\n",
							"      <th>Col2368</th>\n",
							"      <th>Col2369</th>\n",
							"      <th>Col2370</th>\n",
							"      <th>Col2371</th>\n",
							"      <th>Col2372</th>\n",
							"      <th>Col2373</th>\n",
							"      <th>Col2374</th>\n",
							"      <th>Col2375</th>\n",
							"      <th>Col2376</th>\n",
							"      <th>Col2377</th>\n",
							"      <th>Col2378</th>\n",
							"      <th>Col2379</th>\n",
							"      <th>Col2380</th>\n",
							"      <th>Col2381</th>\n",
							"      <th>Col2382</th>\n",
							"      <th>Col2383</th>\n",
							"      <th>Col2384</th>\n",
							"      <th>Col2385</th>\n",
							"      <th>Col2386</th>\n",
							"      <th>Col2387</th>\n",
							"      <th>Col2388</th>\n",
							"      <th>Col2389</th>\n",
							"      <th>Col2390</th>\n",
							"      <th>Col2391</th>\n",
							"      <th>Col2392</th>\n",
							"      <th>Col2393</th>\n",
							"      <th>Col2394</th>\n",
							"      <th>Col2395</th>\n",
							"      <th>Col2396</th>\n",
							"      <th>Col2397</th>\n",
							"    </tr>\n",
							"  </thead>\n",
							"  <tbody>\n",
							"    <tr>\n",
							"      <th>0</th>\n",
							"      <td>0.011107</td>\n",
							"      <td>0.011716</td>\n",
							"      <td>0.010244</td>\n",
							"      <td>0.010244</td>\n",
							"      <td>0.015302</td>\n",
							"      <td>0.013638</td>\n",
							"      <td>0.002773</td>\n",
							"      <td>0.004153</td>\n",
							"      <td>0.011418</td>\n",
							"      <td>0.011069</td>\n",
							"      <td>0.000002</td>\n",
							"      <td>0.000002</td>\n",
							"      <td>0.000002</td>\n",
							"      <td>0.000002</td>\n",
							"      <td>1.555413e-07</td>\n",
							"      <td>1.196186e-07</td>\n",
							"      <td>0.000005</td>\n",
							"      <td>0.000001</td>\n",
							"      <td>3.218902e-08</td>\n",
							"      <td>1.014820e-07</td>\n",
							"      <td>5.513934e-08</td>\n",
							"      <td>1.103815e-07</td>\n",
							"      <td>1.171082e-08</td>\n",
							"      <td>3.247931e-08</td>\n",
							"      <td>2.043299e-08</td>\n",
							"      <td>2.377211e-08</td>\n",
							"      <td>4.080018e-07</td>\n",
							"      <td>4.080018e-07</td>\n",
							"      <td>8.160035e-07</td>\n",
							"      <td>8.160035e-07</td>\n",
							"      <td>8.160035e-07</td>\n",
							"      <td>0.0</td>\n",
							"      <td>1.360006e-07</td>\n",
							"      <td>6.800029e-07</td>\n",
							"      <td>0.000003</td>\n",
							"      <td>4.559172e-07</td>\n",
							"      <td>5.583206e-07</td>\n",
							"      <td>0.000005</td>\n",
							"      <td>4.960391e-07</td>\n",
							"      <td>2.264410e-07</td>\n",
							"      <td>...</td>\n",
							"      <td>0.0</td>\n",
							"      <td>0.0</td>\n",
							"      <td>0.0</td>\n",
							"      <td>0.0</td>\n",
							"      <td>0.0</td>\n",
							"      <td>0.0</td>\n",
							"      <td>0.0</td>\n",
							"      <td>0.0</td>\n",
							"      <td>0.0</td>\n",
							"      <td>0.0</td>\n",
							"      <td>0.0</td>\n",
							"      <td>0.0</td>\n",
							"      <td>1.360006e-07</td>\n",
							"      <td>1.360006e-07</td>\n",
							"      <td>1.360006e-07</td>\n",
							"      <td>1.360006e-07</td>\n",
							"      <td>0.0</td>\n",
							"      <td>0.0</td>\n",
							"      <td>0.0</td>\n",
							"      <td>0.0</td>\n",
							"      <td>0.0</td>\n",
							"      <td>0.0</td>\n",
							"      <td>0.0</td>\n",
							"      <td>0.0</td>\n",
							"      <td>0.0</td>\n",
							"      <td>0.0</td>\n",
							"      <td>0.0</td>\n",
							"      <td>0.0</td>\n",
							"      <td>0.0</td>\n",
							"      <td>0.0</td>\n",
							"      <td>0.0</td>\n",
							"      <td>0.0</td>\n",
							"      <td>0.0</td>\n",
							"      <td>0.0</td>\n",
							"      <td>0.000006</td>\n",
							"      <td>0.000006</td>\n",
							"      <td>0.000003</td>\n",
							"      <td>0.000006</td>\n",
							"      <td>0.000006</td>\n",
							"      <td>0.000005</td>\n",
							"    </tr>\n",
							"  </tbody>\n",
							"</table>\n",
							"<p>1 rows × 2380 columns</p>\n",
							"</div>"
						],
						"text/plain": [
							"       Col3      Col4      Col5  ...   Col2395   Col2396   Col2397\n",
							"0  0.011107  0.011716  0.010244  ...  0.000006  0.000006  0.000005\n",
							"\n",
							"[1 rows x 2380 columns]"
						]
					},
					"metadata": {
						"tags": []
					},
					"execution_count": 42
				}
			]
		},
		{
			"cell_type": "code",
			"metadata": {
				"id": "V0pVfMyVNQiE",
				"colab_type": "code",
				"outputId": "1cf0e5c3-cb3c-42cc-98be-03e305d74916",
				"executionInfo": {
					"status": "ok",
					"timestamp": 1569771560869,
					"user_tz": -330,
					"elapsed": 1885,
					"user": {
						"displayName": "akash tomar",
						"photoUrl": "https://lh3.googleusercontent.com/a-/AAuE7mBxd66nwVXwS-GpO-tMlaeZCMfJdn-tZcKXzYhhig=s64",
						"userId": "03886037860232413560"
					}
				},
				"colab": {
					"base_uri": "https://localhost:8080/",
					"height": 87
				}
			},
			"source": [
				"## Spliting the dataset into test train\n",
				"from sklearn.model_selection import train_test_split\n",
				"x_train,x_test,y_train,y_test=train_test_split(new_mod,Y,test_size=0.25)\n",
				"#x_train,x_test,y_train,y_test=train_test_split(X,Y,test_size=0.25)\n",
				"print (x_train.shape)\n",
				"print (y_train.shape)\n",
				"print (x_test.shape)\n",
				"y_test.shape"
			],
			"execution_count": 45,
			"outputs": [
				{
					"output_type": "stream",
					"text": [
						"(23640, 2380)\n",
						"(23640,)\n",
						"(7880, 2380)\n"
					],
					"name": "stdout"
				},
				{
					"output_type": "execute_result",
					"data": {
						"text/plain": [
							"(7880,)"
						]
					},
					"metadata": {
						"tags": []
					},
					"execution_count": 45
				}
			]
		},
		{
			"cell_type": "code",
			"metadata": {
				"id": "-VqUmQ7MNojg",
				"colab_type": "code",
				"outputId": "5ba55919-efb4-43ae-a1e7-a1c18a705652",
				"executionInfo": {
					"status": "ok",
					"timestamp": 1569771429186,
					"user_tz": -330,
					"elapsed": 984,
					"user": {
						"displayName": "akash tomar",
						"photoUrl": "https://lh3.googleusercontent.com/a-/AAuE7mBxd66nwVXwS-GpO-tMlaeZCMfJdn-tZcKXzYhhig=s64",
						"userId": "03886037860232413560"
					}
				},
				"colab": {
					"base_uri": "https://localhost:8080/",
					"height": 70
				}
			},
			"source": [
				"Y.value_counts() ## Feature Y in not balanced, thus using SMOTE"
			],
			"execution_count": 43,
			"outputs": [
				{
					"output_type": "execute_result",
					"data": {
						"text/plain": [
							"1    15760\n",
							"0    15760\n",
							"Name: Col2, dtype: int64"
						]
					},
					"metadata": {
						"tags": []
					},
					"execution_count": 43
				}
			]
		},
		{
			"cell_type": "code",
			"metadata": {
				"id": "Dbk4eFJ3Ny-0",
				"colab_type": "code",
				"outputId": "c6c846e0-47e4-4854-d548-c89fc8e4eccf",
				"executionInfo": {
					"status": "ok",
					"timestamp": 1569440637032,
					"user_tz": -330,
					"elapsed": 13697,
					"user": {
						"displayName": "akash tomar",
						"photoUrl": "https://lh3.googleusercontent.com/a-/AAuE7mBxd66nwVXwS-GpO-tMlaeZCMfJdn-tZcKXzYhhig=s64",
						"userId": "03886037860232413560"
					}
				},
				"colab": {
					"base_uri": "https://localhost:8080/",
					"height": 125
				}
			},
			"source": [
				"## Used Smote for synthesize the new data entry to balance the class (Note:  Currently we have upscaled the lower class.)\n",
				"\n",
				"# from imblearn.over_sampling import SMOTE\n",
				"# sm = SMOTE(random_state=2)\n",
				"# x_train_res, y_train_res = sm.fit_sample(x_train, y_train)\n",
				"# print (sum(y_train_res==0))\n",
				"# print (sum(y_train_res==1))\n",
				"# sum(y_train==1)"
			],
			"execution_count": 0,
			"outputs": [
				{
					"output_type": "stream",
					"text": [
						"/usr/local/lib/python3.6/dist-packages/sklearn/externals/six.py:31: DeprecationWarning: The module is deprecated in version 0.21 and will be removed in version 0.23 since we've dropped support for Python 2.7. Please rely on the official version of six (https://pypi.org/project/six/).\n",
						"  \"(https://pypi.org/project/six/).\", DeprecationWarning)\n"
					],
					"name": "stderr"
				},
				{
					"output_type": "stream",
					"text": [
						"11821\n",
						"11821\n"
					],
					"name": "stdout"
				},
				{
					"output_type": "execute_result",
					"data": {
						"text/plain": [
							"1319"
						]
					},
					"metadata": {
						"tags": []
					},
					"execution_count": 21
				}
			]
		},
		{
			"cell_type": "code",
			"metadata": {
				"id": "CIM26ckFOJHH",
				"colab_type": "code",
				"outputId": "971a3ad6-6079-4ab7-f4e8-465aa0297b0c",
				"executionInfo": {
					"status": "ok",
					"timestamp": 1569440637035,
					"user_tz": -330,
					"elapsed": 10643,
					"user": {
						"displayName": "akash tomar",
						"photoUrl": "https://lh3.googleusercontent.com/a-/AAuE7mBxd66nwVXwS-GpO-tMlaeZCMfJdn-tZcKXzYhhig=s64",
						"userId": "03886037860232413560"
					}
				},
				"colab": {
					"base_uri": "https://localhost:8080/",
					"height": 34
				}
			},
			"source": [
				"# x_train_res1=pd.DataFrame(x_train_res,columns=x_train.columns)\n",
				"# #y_train_res1=pd.DataFrame(y_train_res,columns=\"Col2\")\n",
				"# x_train_res1.shape"
			],
			"execution_count": 0,
			"outputs": [
				{
					"output_type": "execute_result",
					"data": {
						"text/plain": [
							"(23642, 2380)"
						]
					},
					"metadata": {
						"tags": []
					},
					"execution_count": 22
				}
			]
		},
		{
			"cell_type": "code",
			"metadata": {
				"id": "U2qAutaOOPny",
				"colab_type": "code",
				"outputId": "89e9a0ba-9d9d-47fb-dd1a-42af99c7638d",
				"executionInfo": {
					"status": "ok",
					"timestamp": 1569771565009,
					"user_tz": -330,
					"elapsed": 1086,
					"user": {
						"displayName": "akash tomar",
						"photoUrl": "https://lh3.googleusercontent.com/a-/AAuE7mBxd66nwVXwS-GpO-tMlaeZCMfJdn-tZcKXzYhhig=s64",
						"userId": "03886037860232413560"
					}
				},
				"colab": {
					"base_uri": "https://localhost:8080/",
					"height": 34
				}
			},
			"source": [
				"x_test.shape"
			],
			"execution_count": 46,
			"outputs": [
				{
					"output_type": "execute_result",
					"data": {
						"text/plain": [
							"(7880, 2380)"
						]
					},
					"metadata": {
						"tags": []
					},
					"execution_count": 46
				}
			]
		},
		{
			"cell_type": "code",
			"metadata": {
				"id": "DzbD2ZuvOa3v",
				"colab_type": "code",
				"colab": {}
			},
			"source": [
				""
			],
			"execution_count": 0,
			"outputs": []
		},
		{
			"cell_type": "code",
			"metadata": {
				"id": "l3zRgtDxOj4A",
				"colab_type": "code",
				"colab": {}
			},
			"source": [
				"# x_train_res1=pd.DataFrame(x_train_res,columns=x_train.columns)\n",
				"# #y_train_res1=pd.DataFrame(y_train_res,columns=\"Col2\")\n",
				"# x_train_res1.head()"
			],
			"execution_count": 0,
			"outputs": []
		},
		{
			"cell_type": "code",
			"metadata": {
				"id": "ZiVKRkEFOqL7",
				"colab_type": "code",
				"outputId": "64a0a40e-bf7a-406f-86be-90239ee89c9e",
				"executionInfo": {
					"status": "ok",
					"timestamp": 1569750660925,
					"user_tz": -330,
					"elapsed": 843,
					"user": {
						"displayName": "akash tomar",
						"photoUrl": "https://lh3.googleusercontent.com/a-/AAuE7mBxd66nwVXwS-GpO-tMlaeZCMfJdn-tZcKXzYhhig=s64",
						"userId": "03886037860232413560"
					}
				},
				"colab": {
					"base_uri": "https://localhost:8080/",
					"height": 236
				}
			},
			"source": [
				"x_test.head(3)"
			],
			"execution_count": 0,
			"outputs": [
				{
					"output_type": "execute_result",
					"data": {
						"text/html": [
							"<div>\n",
							"<style scoped>\n",
							"    .dataframe tbody tr th:only-of-type {\n",
							"        vertical-align: middle;\n",
							"    }\n",
							"\n",
							"    .dataframe tbody tr th {\n",
							"        vertical-align: top;\n",
							"    }\n",
							"\n",
							"    .dataframe thead th {\n",
							"        text-align: right;\n",
							"    }\n",
							"</style>\n",
							"<table border=\"1\" class=\"dataframe\">\n",
							"  <thead>\n",
							"    <tr style=\"text-align: right;\">\n",
							"      <th></th>\n",
							"      <th>Col3</th>\n",
							"      <th>Col4</th>\n",
							"      <th>Col5</th>\n",
							"      <th>Col6</th>\n",
							"      <th>Col7</th>\n",
							"      <th>Col8</th>\n",
							"      <th>Col9</th>\n",
							"      <th>Col10</th>\n",
							"      <th>Col11</th>\n",
							"      <th>Col12</th>\n",
							"      <th>Col13</th>\n",
							"      <th>Col14</th>\n",
							"      <th>Col15</th>\n",
							"      <th>Col16</th>\n",
							"      <th>Col17</th>\n",
							"      <th>Col18</th>\n",
							"      <th>Col19</th>\n",
							"      <th>Col20</th>\n",
							"      <th>Col21</th>\n",
							"      <th>Col22</th>\n",
							"      <th>Col23</th>\n",
							"      <th>Col24</th>\n",
							"      <th>Col25</th>\n",
							"      <th>Col26</th>\n",
							"      <th>Col27</th>\n",
							"      <th>Col28</th>\n",
							"      <th>Col29</th>\n",
							"      <th>Col30</th>\n",
							"      <th>Col31</th>\n",
							"      <th>Col32</th>\n",
							"      <th>Col33</th>\n",
							"      <th>Col34</th>\n",
							"      <th>Col35</th>\n",
							"      <th>Col36</th>\n",
							"      <th>Col37</th>\n",
							"      <th>Col38</th>\n",
							"      <th>Col39</th>\n",
							"      <th>Col40</th>\n",
							"      <th>Col41</th>\n",
							"      <th>Col42</th>\n",
							"      <th>...</th>\n",
							"      <th>Col2358</th>\n",
							"      <th>Col2359</th>\n",
							"      <th>Col2360</th>\n",
							"      <th>Col2361</th>\n",
							"      <th>Col2362</th>\n",
							"      <th>Col2363</th>\n",
							"      <th>Col2364</th>\n",
							"      <th>Col2365</th>\n",
							"      <th>Col2366</th>\n",
							"      <th>Col2367</th>\n",
							"      <th>Col2368</th>\n",
							"      <th>Col2369</th>\n",
							"      <th>Col2370</th>\n",
							"      <th>Col2371</th>\n",
							"      <th>Col2372</th>\n",
							"      <th>Col2373</th>\n",
							"      <th>Col2374</th>\n",
							"      <th>Col2375</th>\n",
							"      <th>Col2376</th>\n",
							"      <th>Col2377</th>\n",
							"      <th>Col2378</th>\n",
							"      <th>Col2379</th>\n",
							"      <th>Col2380</th>\n",
							"      <th>Col2381</th>\n",
							"      <th>Col2382</th>\n",
							"      <th>Col2383</th>\n",
							"      <th>Col2384</th>\n",
							"      <th>Col2385</th>\n",
							"      <th>Col2386</th>\n",
							"      <th>Col2387</th>\n",
							"      <th>Col2388</th>\n",
							"      <th>Col2389</th>\n",
							"      <th>Col2390</th>\n",
							"      <th>Col2391</th>\n",
							"      <th>Col2392</th>\n",
							"      <th>Col2393</th>\n",
							"      <th>Col2394</th>\n",
							"      <th>Col2395</th>\n",
							"      <th>Col2396</th>\n",
							"      <th>Col2397</th>\n",
							"    </tr>\n",
							"  </thead>\n",
							"  <tbody>\n",
							"    <tr>\n",
							"      <th>28028</th>\n",
							"      <td>0.021764</td>\n",
							"      <td>0.021873</td>\n",
							"      <td>0.019139</td>\n",
							"      <td>0.024619</td>\n",
							"      <td>0.019665</td>\n",
							"      <td>0.021170</td>\n",
							"      <td>0.009790</td>\n",
							"      <td>0.007681</td>\n",
							"      <td>0.018280</td>\n",
							"      <td>0.019338</td>\n",
							"      <td>0.000020</td>\n",
							"      <td>0.000019</td>\n",
							"      <td>0.000020</td>\n",
							"      <td>0.000020</td>\n",
							"      <td>0.000002</td>\n",
							"      <td>0.000002</td>\n",
							"      <td>0.000019</td>\n",
							"      <td>0.000008</td>\n",
							"      <td>9.526456e-07</td>\n",
							"      <td>0.000002</td>\n",
							"      <td>6.640357e-07</td>\n",
							"      <td>0.000002</td>\n",
							"      <td>2.237382e-07</td>\n",
							"      <td>-3.170314e-07</td>\n",
							"      <td>9.543867e-08</td>\n",
							"      <td>3.383578e-07</td>\n",
							"      <td>0.000002</td>\n",
							"      <td>0.000002</td>\n",
							"      <td>0.000002</td>\n",
							"      <td>0.000002</td>\n",
							"      <td>0.000002</td>\n",
							"      <td>0.000002</td>\n",
							"      <td>0.000000</td>\n",
							"      <td>0.000013</td>\n",
							"      <td>0.000016</td>\n",
							"      <td>0.000008</td>\n",
							"      <td>0.000008</td>\n",
							"      <td>0.000025</td>\n",
							"      <td>0.000008</td>\n",
							"      <td>0.000008</td>\n",
							"      <td>...</td>\n",
							"      <td>0.0</td>\n",
							"      <td>0.0</td>\n",
							"      <td>0.000006</td>\n",
							"      <td>0.000002</td>\n",
							"      <td>0.0</td>\n",
							"      <td>0.0</td>\n",
							"      <td>0.0</td>\n",
							"      <td>0.0</td>\n",
							"      <td>0.000002</td>\n",
							"      <td>0.000002</td>\n",
							"      <td>0.000004</td>\n",
							"      <td>0.000002</td>\n",
							"      <td>0.000006</td>\n",
							"      <td>0.000004</td>\n",
							"      <td>0.0</td>\n",
							"      <td>0.0</td>\n",
							"      <td>0.0</td>\n",
							"      <td>0.0</td>\n",
							"      <td>0.000004</td>\n",
							"      <td>0.000002</td>\n",
							"      <td>0.000004</td>\n",
							"      <td>0.000002</td>\n",
							"      <td>0.000002</td>\n",
							"      <td>0.000002</td>\n",
							"      <td>0.0</td>\n",
							"      <td>0.0</td>\n",
							"      <td>0.0</td>\n",
							"      <td>0.0</td>\n",
							"      <td>0.0</td>\n",
							"      <td>0.0</td>\n",
							"      <td>0.000002</td>\n",
							"      <td>0.000002</td>\n",
							"      <td>0.000002</td>\n",
							"      <td>0.000002</td>\n",
							"      <td>0.000143</td>\n",
							"      <td>0.000136</td>\n",
							"      <td>0.000077</td>\n",
							"      <td>0.000038</td>\n",
							"      <td>0.000036</td>\n",
							"      <td>0.000019</td>\n",
							"    </tr>\n",
							"    <tr>\n",
							"      <th>2988</th>\n",
							"      <td>0.015029</td>\n",
							"      <td>0.012560</td>\n",
							"      <td>0.011304</td>\n",
							"      <td>0.016286</td>\n",
							"      <td>0.024315</td>\n",
							"      <td>0.030712</td>\n",
							"      <td>0.010216</td>\n",
							"      <td>0.009424</td>\n",
							"      <td>0.030393</td>\n",
							"      <td>0.033618</td>\n",
							"      <td>0.000012</td>\n",
							"      <td>0.000013</td>\n",
							"      <td>0.000013</td>\n",
							"      <td>0.000012</td>\n",
							"      <td>0.000001</td>\n",
							"      <td>0.000001</td>\n",
							"      <td>0.000006</td>\n",
							"      <td>0.000005</td>\n",
							"      <td>1.060686e-06</td>\n",
							"      <td>0.000002</td>\n",
							"      <td>7.545658e-07</td>\n",
							"      <td>0.000001</td>\n",
							"      <td>2.875895e-07</td>\n",
							"      <td>9.859985e-08</td>\n",
							"      <td>4.925146e-07</td>\n",
							"      <td>2.073142e-07</td>\n",
							"      <td>0.000003</td>\n",
							"      <td>0.000003</td>\n",
							"      <td>0.000003</td>\n",
							"      <td>0.000003</td>\n",
							"      <td>0.000001</td>\n",
							"      <td>0.000001</td>\n",
							"      <td>0.000000</td>\n",
							"      <td>0.000007</td>\n",
							"      <td>0.000010</td>\n",
							"      <td>0.000005</td>\n",
							"      <td>0.000005</td>\n",
							"      <td>0.000015</td>\n",
							"      <td>0.000003</td>\n",
							"      <td>0.000033</td>\n",
							"      <td>...</td>\n",
							"      <td>0.0</td>\n",
							"      <td>0.0</td>\n",
							"      <td>0.000003</td>\n",
							"      <td>0.000001</td>\n",
							"      <td>0.0</td>\n",
							"      <td>0.0</td>\n",
							"      <td>0.0</td>\n",
							"      <td>0.0</td>\n",
							"      <td>0.000001</td>\n",
							"      <td>0.000001</td>\n",
							"      <td>0.000003</td>\n",
							"      <td>0.000003</td>\n",
							"      <td>0.000004</td>\n",
							"      <td>0.000003</td>\n",
							"      <td>0.0</td>\n",
							"      <td>0.0</td>\n",
							"      <td>0.0</td>\n",
							"      <td>0.0</td>\n",
							"      <td>0.000003</td>\n",
							"      <td>0.000001</td>\n",
							"      <td>0.000003</td>\n",
							"      <td>0.000003</td>\n",
							"      <td>0.000000</td>\n",
							"      <td>0.000000</td>\n",
							"      <td>0.0</td>\n",
							"      <td>0.0</td>\n",
							"      <td>0.0</td>\n",
							"      <td>0.0</td>\n",
							"      <td>0.0</td>\n",
							"      <td>0.0</td>\n",
							"      <td>0.000003</td>\n",
							"      <td>0.000001</td>\n",
							"      <td>0.000001</td>\n",
							"      <td>0.000000</td>\n",
							"      <td>0.000134</td>\n",
							"      <td>0.000132</td>\n",
							"      <td>0.000108</td>\n",
							"      <td>0.000030</td>\n",
							"      <td>0.000026</td>\n",
							"      <td>0.000017</td>\n",
							"    </tr>\n",
							"    <tr>\n",
							"      <th>21884</th>\n",
							"      <td>0.069643</td>\n",
							"      <td>0.090858</td>\n",
							"      <td>0.078457</td>\n",
							"      <td>0.090858</td>\n",
							"      <td>0.068358</td>\n",
							"      <td>0.068358</td>\n",
							"      <td>0.046781</td>\n",
							"      <td>0.046781</td>\n",
							"      <td>0.016349</td>\n",
							"      <td>0.016349</td>\n",
							"      <td>0.000054</td>\n",
							"      <td>0.000054</td>\n",
							"      <td>0.000054</td>\n",
							"      <td>0.000055</td>\n",
							"      <td>0.000007</td>\n",
							"      <td>0.000004</td>\n",
							"      <td>0.000128</td>\n",
							"      <td>0.000006</td>\n",
							"      <td>2.937947e-06</td>\n",
							"      <td>0.000001</td>\n",
							"      <td>2.937947e-06</td>\n",
							"      <td>0.000001</td>\n",
							"      <td>1.224185e-08</td>\n",
							"      <td>-1.240740e-06</td>\n",
							"      <td>-4.332880e-06</td>\n",
							"      <td>9.071370e-07</td>\n",
							"      <td>0.000006</td>\n",
							"      <td>0.000006</td>\n",
							"      <td>0.000006</td>\n",
							"      <td>0.000006</td>\n",
							"      <td>0.000006</td>\n",
							"      <td>0.000000</td>\n",
							"      <td>0.000006</td>\n",
							"      <td>0.000034</td>\n",
							"      <td>0.000044</td>\n",
							"      <td>0.000021</td>\n",
							"      <td>0.000023</td>\n",
							"      <td>0.000066</td>\n",
							"      <td>0.000020</td>\n",
							"      <td>-0.000082</td>\n",
							"      <td>...</td>\n",
							"      <td>0.0</td>\n",
							"      <td>0.0</td>\n",
							"      <td>0.000000</td>\n",
							"      <td>0.000000</td>\n",
							"      <td>0.0</td>\n",
							"      <td>0.0</td>\n",
							"      <td>0.0</td>\n",
							"      <td>0.0</td>\n",
							"      <td>0.000000</td>\n",
							"      <td>0.000000</td>\n",
							"      <td>0.000011</td>\n",
							"      <td>0.000011</td>\n",
							"      <td>0.000006</td>\n",
							"      <td>0.000011</td>\n",
							"      <td>0.0</td>\n",
							"      <td>0.0</td>\n",
							"      <td>0.0</td>\n",
							"      <td>0.0</td>\n",
							"      <td>0.000011</td>\n",
							"      <td>0.000011</td>\n",
							"      <td>0.000011</td>\n",
							"      <td>0.000011</td>\n",
							"      <td>0.000000</td>\n",
							"      <td>0.000000</td>\n",
							"      <td>0.0</td>\n",
							"      <td>0.0</td>\n",
							"      <td>0.0</td>\n",
							"      <td>0.0</td>\n",
							"      <td>0.0</td>\n",
							"      <td>0.0</td>\n",
							"      <td>0.000006</td>\n",
							"      <td>0.000006</td>\n",
							"      <td>0.000006</td>\n",
							"      <td>0.000006</td>\n",
							"      <td>0.000103</td>\n",
							"      <td>0.000103</td>\n",
							"      <td>0.000046</td>\n",
							"      <td>0.000080</td>\n",
							"      <td>0.000074</td>\n",
							"      <td>0.000034</td>\n",
							"    </tr>\n",
							"  </tbody>\n",
							"</table>\n",
							"<p>3 rows × 2380 columns</p>\n",
							"</div>"
						],
						"text/plain": [
							"           Col3      Col4      Col5  ...   Col2395   Col2396   Col2397\n",
							"28028  0.021764  0.021873  0.019139  ...  0.000038  0.000036  0.000019\n",
							"2988   0.015029  0.012560  0.011304  ...  0.000030  0.000026  0.000017\n",
							"21884  0.069643  0.090858  0.078457  ...  0.000080  0.000074  0.000034\n",
							"\n",
							"[3 rows x 2380 columns]"
						]
					},
					"metadata": {
						"tags": []
					},
					"execution_count": 28
				}
			]
		},
		{
			"cell_type": "code",
			"metadata": {
				"id": "z2wXj6b4PdvE",
				"colab_type": "code",
				"colab": {}
			},
			"source": [
				"## Reducing the dataset, used Truncated Technique\n",
				"\n",
				"# from sklearn.decomposition import TruncatedSVD\n",
				"# svd = TruncatedSVD(n_components=1000)\n",
				"# desc1 = svd.fit_transform(x_train_res1)\n",
				"# desc2 = svd.fit_transform(x_test)\n",
				"\n",
				"# desc1 = pd.DataFrame(desc1,columns=['nlp_1_{}'.format(i) for i in range(1000)])\n",
				"# desc2 = pd.DataFrame(desc2,columns=['nlp_1_{}'.format(i) for i in range(1000)])\n",
				"# desc2.head()\n"
			],
			"execution_count": 0,
			"outputs": []
		},
		{
			"cell_type": "code",
			"metadata": {
				"id": "tr53Q3BJhooi",
				"colab_type": "code",
				"colab": {}
			},
			"source": [
				"from sklearn.metrics import accuracy_score,f1_score"
			],
			"execution_count": 0,
			"outputs": []
		},
		{
			"cell_type": "code",
			"metadata": {
				"id": "tc0HCNekQyZ9",
				"colab_type": "code",
				"outputId": "250e1cbd-258f-4d47-e73d-c6f821338083",
				"executionInfo": {
					"status": "ok",
					"timestamp": 1569771673560,
					"user_tz": -330,
					"elapsed": 41183,
					"user": {
						"displayName": "akash tomar",
						"photoUrl": "https://lh3.googleusercontent.com/a-/AAuE7mBxd66nwVXwS-GpO-tMlaeZCMfJdn-tZcKXzYhhig=s64",
						"userId": "03886037860232413560"
					}
				},
				"colab": {
					"base_uri": "https://localhost:8080/",
					"height": 52
				}
			},
			"source": [
				"from sklearn.tree import DecisionTreeClassifier\n",
				"dt=DecisionTreeClassifier()\n",
				"#dt.fit(x_train_res1,y_train_res)\n",
				"dt.fit(x_train,y_train)\n",
				"pred=dt.predict(x_test)\n",
				"print(\"acc:\",accuracy_score(y_test,pred))\n",
				"print(\"f1score:\",f1_score(y_test,pred,average='weighted'))"
			],
			"execution_count": 48,
			"outputs": [
				{
					"output_type": "stream",
					"text": [
						"acc: 0.9092639593908629\n",
						"f1score: 0.908551369613084\n"
					],
					"name": "stdout"
				}
			]
		},
		{
			"cell_type": "code",
			"metadata": {
				"id": "ve0uZGePittn",
				"colab_type": "code",
				"outputId": "9d300c79-361e-4206-bfc7-247e3b722af2",
				"executionInfo": {
					"status": "ok",
					"timestamp": 1569771703517,
					"user_tz": -330,
					"elapsed": 69975,
					"user": {
						"displayName": "akash tomar",
						"photoUrl": "https://lh3.googleusercontent.com/a-/AAuE7mBxd66nwVXwS-GpO-tMlaeZCMfJdn-tZcKXzYhhig=s64",
						"userId": "03886037860232413560"
					}
				},
				"colab": {
					"base_uri": "https://localhost:8080/",
					"height": 52
				}
			},
			"source": [
				"from sklearn.ensemble import RandomForestClassifier\n",
				"rf = RandomForestClassifier(n_estimators=400, max_depth=2, random_state=0)\n",
				"#rf.fit(x_train_res1,y_train_res)\n",
				"rf.fit(x_train,y_train)\n",
				"Y_pred = rf.predict(x_test)\n",
				"print(\"acc:\",accuracy_score(y_test,Y_pred))\n",
				"print(\"f1score:\",f1_score(y_test,Y_pred,average='weighted'))"
			],
			"execution_count": 49,
			"outputs": [
				{
					"output_type": "stream",
					"text": [
						"acc: 0.634263959390863\n",
						"f1score: 0.6273520201844014\n"
					],
					"name": "stdout"
				}
			]
		},
		{
			"cell_type": "code",
			"metadata": {
				"id": "JjnU5UB5RUeD",
				"colab_type": "code",
				"colab": {}
			},
			"source": [
				"## Using Deep Learning \n",
				"from keras.models import Sequential\n",
				"from keras.layers import Dense,Dropout\n",
				"from keras.regularizers import l2\n",
				"from sklearn.metrics import accuracy_score,f1_score\n",
				"import keras.backend as K\n",
				"import tensorflow as tf"
			],
			"execution_count": 0,
			"outputs": []
		},
		{
			"cell_type": "code",
			"metadata": {
				"id": "d12_QKYrRXOs",
				"colab_type": "code",
				"colab": {}
			},
			"source": [
				"def f1(y_true, y_pred):\n",
				"  y_pred = K.round(y_pred)\n",
				"  tp = K.sum(K.cast(y_true*y_pred, 'float'), axis=0)\n",
				"  tn = K.sum(K.cast((1-y_true)*(1-y_pred), 'float'), axis=0)\n",
				"  fp = K.sum(K.cast((1-y_true)*y_pred, 'float'), axis=0)\n",
				"  fn = K.sum(K.cast(y_true*(1-y_pred), 'float'), axis=0)\n",
				"  p = tp / (tp + fp + K.epsilon())\n",
				"  r = tp / (tp + fn + K.epsilon()) \n",
				"  f1 = 2*p*r / (p+r+K.epsilon())\n",
				"  f1 = tf.where(tf.is_nan(f1), tf.zeros_like(f1), f1)\n",
				"  return K.mean(f1)"
			],
			"execution_count": 0,
			"outputs": []
		},
		{
			"cell_type": "code",
			"metadata": {
				"id": "nz_lQ1KVRufj",
				"colab_type": "code",
				"outputId": "83ea83a9-8921-4045-c1c4-f9cec0f1c1e5",
				"executionInfo": {
					"status": "ok",
					"timestamp": 1569517712735,
					"user_tz": -330,
					"elapsed": 1354,
					"user": {
						"displayName": "akash tomar",
						"photoUrl": "https://lh3.googleusercontent.com/a-/AAuE7mBxd66nwVXwS-GpO-tMlaeZCMfJdn-tZcKXzYhhig=s64",
						"userId": "03886037860232413560"
					}
				},
				"colab": {
					"base_uri": "https://localhost:8080/",
					"height": 232
				}
			},
			"source": [
				"model = Sequential()\n",
				"\n",
				"#Hidden Layer-1\n",
				"model.add(Dense(1000,activation='relu',input_dim=2380,kernel_regularizer=l2(0.01)))\n",
				"model.add(Dropout(0.3, noise_shape=None, seed=None))\n",
				"\n",
				"#Hidden Layer-2\n",
				"model.add(Dense(1000,activation = 'relu',kernel_regularizer=l2(0.01)))\n",
				"model.add(Dropout(0.3, noise_shape=None, seed=None))\n",
				"\n",
				"#Hidden Layer-3\n",
				"model.add(Dense(1000,activation = 'relu',kernel_regularizer=l2(0.01)))\n",
				"model.add(Dropout(0.3, noise_shape=None, seed=None))\n",
				"\n",
				"model.add(Dense(1000,activation = 'relu',kernel_regularizer=l2(0.01)))\n",
				"model.add(Dropout(0.3, noise_shape=None, seed=None))\n",
				"\n",
				"#Output layer\n",
				"model.add(Dense(1,activation='sigmoid'))\n"
			],
			"execution_count": 0,
			"outputs": [
				{
					"output_type": "stream",
					"text": [
						"WARNING:tensorflow:From /usr/local/lib/python3.6/dist-packages/keras/backend/tensorflow_backend.py:66: The name tf.get_default_graph is deprecated. Please use tf.compat.v1.get_default_graph instead.\n",
						"\n",
						"WARNING:tensorflow:From /usr/local/lib/python3.6/dist-packages/keras/backend/tensorflow_backend.py:541: The name tf.placeholder is deprecated. Please use tf.compat.v1.placeholder instead.\n",
						"\n",
						"WARNING:tensorflow:From /usr/local/lib/python3.6/dist-packages/keras/backend/tensorflow_backend.py:4432: The name tf.random_uniform is deprecated. Please use tf.random.uniform instead.\n",
						"\n",
						"WARNING:tensorflow:From /usr/local/lib/python3.6/dist-packages/keras/backend/tensorflow_backend.py:148: The name tf.placeholder_with_default is deprecated. Please use tf.compat.v1.placeholder_with_default instead.\n",
						"\n",
						"WARNING:tensorflow:From /usr/local/lib/python3.6/dist-packages/keras/backend/tensorflow_backend.py:3733: calling dropout (from tensorflow.python.ops.nn_ops) with keep_prob is deprecated and will be removed in a future version.\n",
						"Instructions for updating:\n",
						"Please use `rate` instead of `keep_prob`. Rate should be set to `rate = 1 - keep_prob`.\n"
					],
					"name": "stdout"
				}
			]
		},
		{
			"cell_type": "code",
			"metadata": {
				"id": "GmcXesXdR0lR",
				"colab_type": "code",
				"outputId": "aa91c534-2d13-460f-f429-d762588bc040",
				"executionInfo": {
					"status": "ok",
					"timestamp": 1569517723501,
					"user_tz": -330,
					"elapsed": 8299,
					"user": {
						"displayName": "akash tomar",
						"photoUrl": "https://lh3.googleusercontent.com/a-/AAuE7mBxd66nwVXwS-GpO-tMlaeZCMfJdn-tZcKXzYhhig=s64",
						"userId": "03886037860232413560"
					}
				},
				"colab": {
					"base_uri": "https://localhost:8080/",
					"height": 161
				}
			},
			"source": [
				"model.compile(loss='binary_crossentropy',optimizer='adam',metrics=['accuracy', f1])"
			],
			"execution_count": 0,
			"outputs": [
				{
					"output_type": "stream",
					"text": [
						"WARNING:tensorflow:From /usr/local/lib/python3.6/dist-packages/keras/optimizers.py:793: The name tf.train.Optimizer is deprecated. Please use tf.compat.v1.train.Optimizer instead.\n",
						"\n",
						"WARNING:tensorflow:From /usr/local/lib/python3.6/dist-packages/keras/backend/tensorflow_backend.py:3657: The name tf.log is deprecated. Please use tf.math.log instead.\n",
						"\n",
						"WARNING:tensorflow:From /usr/local/lib/python3.6/dist-packages/tensorflow/python/ops/nn_impl.py:180: add_dispatch_support.<locals>.wrapper (from tensorflow.python.ops.array_ops) is deprecated and will be removed in a future version.\n",
						"Instructions for updating:\n",
						"Use tf.where in 2.0, which has the same broadcast rule as np.where\n"
					],
					"name": "stdout"
				}
			]
		},
		{
			"cell_type": "code",
			"metadata": {
				"id": "kczwQfcER3No",
				"colab_type": "code",
				"outputId": "5328ed75-cdca-4ea9-e24b-178aec92faba",
				"executionInfo": {
					"status": "ok",
					"timestamp": 1569517723505,
					"user_tz": -330,
					"elapsed": 4918,
					"user": {
						"displayName": "akash tomar",
						"photoUrl": "https://lh3.googleusercontent.com/a-/AAuE7mBxd66nwVXwS-GpO-tMlaeZCMfJdn-tZcKXzYhhig=s64",
						"userId": "03886037860232413560"
					}
				},
				"colab": {
					"base_uri": "https://localhost:8080/",
					"height": 478
				}
			},
			"source": [
				"model.summary()"
			],
			"execution_count": 0,
			"outputs": [
				{
					"output_type": "stream",
					"text": [
						"Model: \"sequential_1\"\n",
						"_________________________________________________________________\n",
						"Layer (type)                 Output Shape              Param #   \n",
						"=================================================================\n",
						"dense_1 (Dense)              (None, 1000)              2381000   \n",
						"_________________________________________________________________\n",
						"dropout_1 (Dropout)          (None, 1000)              0         \n",
						"_________________________________________________________________\n",
						"dense_2 (Dense)              (None, 1000)              1001000   \n",
						"_________________________________________________________________\n",
						"dropout_2 (Dropout)          (None, 1000)              0         \n",
						"_________________________________________________________________\n",
						"dense_3 (Dense)              (None, 1000)              1001000   \n",
						"_________________________________________________________________\n",
						"dropout_3 (Dropout)          (None, 1000)              0         \n",
						"_________________________________________________________________\n",
						"dense_4 (Dense)              (None, 1000)              1001000   \n",
						"_________________________________________________________________\n",
						"dropout_4 (Dropout)          (None, 1000)              0         \n",
						"_________________________________________________________________\n",
						"dense_5 (Dense)              (None, 1)                 1001      \n",
						"=================================================================\n",
						"Total params: 5,385,001\n",
						"Trainable params: 5,385,001\n",
						"Non-trainable params: 0\n",
						"_________________________________________________________________\n"
					],
					"name": "stdout"
				}
			]
		},
		{
			"cell_type": "code",
			"metadata": {
				"id": "Ud_r87j_R6T-",
				"colab_type": "code",
				"colab": {}
			},
			"source": [
				"model_output = model.fit(x_train,y_train,epochs=100,batch_size=50,verbose=1,validation_data=(x_test,y_test))"
			],
			"execution_count": 0,
			"outputs": []
		},
		{
			"cell_type": "code",
			"metadata": {
				"id": "qCVz7aqN7wuh",
				"colab_type": "code",
				"outputId": "11406ce5-89b4-4ea0-ef27-13737f551c53",
				"executionInfo": {
					"status": "ok",
					"timestamp": 1569773999524,
					"user_tz": -330,
					"elapsed": 1073068,
					"user": {
						"displayName": "akash tomar",
						"photoUrl": "https://lh3.googleusercontent.com/a-/AAuE7mBxd66nwVXwS-GpO-tMlaeZCMfJdn-tZcKXzYhhig=s64",
						"userId": "03886037860232413560"
					}
				},
				"colab": {
					"base_uri": "https://localhost:8080/",
					"height": 52
				}
			},
			"source": [
				"from xgboost import XGBClassifier\n",
				"xgb = XGBClassifier(learning_rate=0.1,n_estimators=500, booster='dart')\n",
				"#xgb.fit(x_train_res1,y_train_res)\n",
				"xgb.fit(x_train,y_train)\n",
				"Y_pred = xgb.predict(x_test)\n",
				"print(\"acc:\",accuracy_score(y_test,Y_pred))\n",
				"print(\"f1score:\",f1_score(y_test,Y_pred,average='weighted'))"
			],
			"execution_count": 53,
			"outputs": [
				{
					"output_type": "stream",
					"text": [
						"acc: 0.875761421319797\n",
						"f1score: 0.8751761513812254\n"
					],
					"name": "stdout"
				}
			]
		},
		{
			"cell_type": "code",
			"metadata": {
				"id": "XTA89DwJOuyo",
				"colab_type": "code",
				"colab": {}
			},
			"source": [
				"## Predicting the 'Col2' from xgb model\n",
				"test_pred = xgb.predict(new_test)"
			],
			"execution_count": 0,
			"outputs": []
		},
		{
			"cell_type": "code",
			"metadata": {
				"id": "7GJaT28oBlsn",
				"colab_type": "code",
				"outputId": "c0f84b72-4a74-4c96-f540-0cf8499bd1d0",
				"executionInfo": {
					"status": "ok",
					"timestamp": 1569774113764,
					"user_tz": -330,
					"elapsed": 10891,
					"user": {
						"displayName": "akash tomar",
						"photoUrl": "https://lh3.googleusercontent.com/a-/AAuE7mBxd66nwVXwS-GpO-tMlaeZCMfJdn-tZcKXzYhhig=s64",
						"userId": "03886037860232413560"
					}
				},
				"colab": {
					"base_uri": "https://localhost:8080/",
					"height": 72
				}
			},
			"source": [
				"test2=pd.read_csv(\"Test.csv\")"
			],
			"execution_count": 55,
			"outputs": [
				{
					"output_type": "stream",
					"text": [
						"/usr/local/lib/python3.6/dist-packages/IPython/core/interactiveshell.py:2718: DtypeWarning: Columns (700,731,740,752,761,789,811,820,829,841,850) have mixed types. Specify dtype option on import or set low_memory=False.\n",
						"  interactivity=interactivity, compiler=compiler, result=result)\n"
					],
					"name": "stderr"
				}
			]
		},
		{
			"cell_type": "code",
			"metadata": {
				"id": "PYj8ycF1VeDd",
				"colab_type": "code",
				"colab": {}
			},
			"source": [
				"submit = pd.DataFrame({\"Col2\":test_pred})\n",
				"submit.insert(loc=0, column=\"Col1\", value=test2[\"Col1\"])"
			],
			"execution_count": 0,
			"outputs": []
		},
		{
			"cell_type": "code",
			"metadata": {
				"id": "xI4FkeCXg1K9",
				"colab_type": "code",
				"outputId": "ebed7296-ad7f-4a4a-e037-88c8158d07c2",
				"executionInfo": {
					"status": "ok",
					"timestamp": 1569774113782,
					"user_tz": -330,
					"elapsed": 3826,
					"user": {
						"displayName": "akash tomar",
						"photoUrl": "https://lh3.googleusercontent.com/a-/AAuE7mBxd66nwVXwS-GpO-tMlaeZCMfJdn-tZcKXzYhhig=s64",
						"userId": "03886037860232413560"
					}
				},
				"colab": {
					"base_uri": "https://localhost:8080/",
					"height": 70
				}
			},
			"source": [
				"submit['Col2'].value_counts()"
			],
			"execution_count": 57,
			"outputs": [
				{
					"output_type": "execute_result",
					"data": {
						"text/plain": [
							"0    15947\n",
							"1     4495\n",
							"Name: Col2, dtype: int64"
						]
					},
					"metadata": {
						"tags": []
					},
					"execution_count": 57
				}
			]
		},
		{
			"cell_type": "code",
			"metadata": {
				"id": "PjjZ3Ev7X234",
				"colab_type": "code",
				"colab": {}
			},
			"source": [
				"submit.to_csv('submission_xgb.csv',index=False)"
			],
			"execution_count": 0,
			"outputs": []
		}
	]
}